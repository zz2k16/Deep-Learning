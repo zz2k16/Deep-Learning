{
 "cells": [
  {
   "cell_type": "code",
   "execution_count": 157,
   "metadata": {},
   "outputs": [],
   "source": [
    "# plaidml Keras default template code\n",
    "import numpy as np\n",
    "import pandas as pd\n",
    "import os\n",
    "import time\n",
    "os.environ[\"KERAS_BACKEND\"] = \"plaidml.keras.backend\"\n",
    "import keras"
   ]
  },
  {
   "cell_type": "markdown",
   "metadata": {},
   "source": [
    "# MNIST KERAS Basics 99.7%\n",
    "Complete CV DL workflow and visualisation"
   ]
  },
  {
   "cell_type": "code",
   "execution_count": 52,
   "metadata": {},
   "outputs": [],
   "source": [
    "# standard ds imports\n",
    "import matplotlib.pyplot as plt\n",
    "import matplotlib.image as plt_img\n",
    "import seaborn as sns\n",
    "%matplotlib inline"
   ]
  },
  {
   "cell_type": "code",
   "execution_count": 53,
   "metadata": {},
   "outputs": [],
   "source": [
    "# standard sklearn imports\n",
    "from sklearn.model_selection import train_test_split\n",
    "from sklearn.metrics import confusion_matrix"
   ]
  },
  {
   "cell_type": "code",
   "execution_count": 54,
   "metadata": {},
   "outputs": [],
   "source": [
    "import itertools"
   ]
  },
  {
   "cell_type": "code",
   "execution_count": 162,
   "metadata": {},
   "outputs": [],
   "source": [
    "# basic keras sequential model and image imports\n",
    "# use for plaidml acceleration\n",
    "from keras.utils.np_utils import to_categorical # for one hot encoding\n",
    "from keras.models import Sequential # model\n",
    "from keras.layers import Dense, Dropout, Flatten, Conv2D, MaxPool1D, MaxPool2D # layers\n",
    "from keras.optimizers import RMSprop # learning optimizer\n",
    "from keras.preprocessing.image import ImageDataGenerator # generator function for loading images\n",
    "from keras.callbacks import ReduceLROnPlateau # learning rate callback for early stopping"
   ]
  },
  {
   "cell_type": "code",
   "execution_count": 159,
   "metadata": {},
   "outputs": [
    {
     "name": "stdout",
     "output_type": "stream",
     "text": [
      "2.0.0\n"
     ]
    }
   ],
   "source": [
    "# imports from tf.keras\n",
    "## not supported by plaidml\n",
    "import tensorflow as tf\n",
    "print(tf.__version__)\n",
    "from tensorflow.keras import Model as tf_Model\n",
    "from tensorflow.keras import Sequential as tf_Sequential\n",
    "from tensorflow.keras import layers as tf_layers"
   ]
  },
  {
   "cell_type": "code",
   "execution_count": 56,
   "metadata": {},
   "outputs": [],
   "source": [
    "# set visualisation settings\n",
    "sns.set(style='white', context='notebook')\n",
    "sns.set_palette(palette='Paired', desat=0.8)\n",
    "# set figure sizes\n",
    "from matplotlib import rcParams\n",
    "# figure size in inches\n",
    "rcParams['figure.figsize'] = 11,7"
   ]
  },
  {
   "cell_type": "markdown",
   "metadata": {},
   "source": [
    "## Load Data"
   ]
  },
  {
   "cell_type": "code",
   "execution_count": 57,
   "metadata": {},
   "outputs": [],
   "source": [
    "# load train and test data\n",
    "# reference Data folder\n",
    "train_path = '../Data/Digits/digit-recognizer/train.csv'\n",
    "test_path = '../Data/Digits/digit-recognizer/test.csv'"
   ]
  },
  {
   "cell_type": "code",
   "execution_count": 58,
   "metadata": {},
   "outputs": [],
   "source": [
    "# load dataframes\n",
    "train = pd.read_csv(train_path)\n",
    "test = pd.read_csv(test_path)"
   ]
  },
  {
   "cell_type": "code",
   "execution_count": 59,
   "metadata": {},
   "outputs": [
    {
     "name": "stdout",
     "output_type": "stream",
     "text": [
      "Index(['label', 'pixel0', 'pixel1', 'pixel2', 'pixel3', 'pixel4', 'pixel5',\n",
      "       'pixel6', 'pixel7', 'pixel8',\n",
      "       ...\n",
      "       'pixel774', 'pixel775', 'pixel776', 'pixel777', 'pixel778', 'pixel779',\n",
      "       'pixel780', 'pixel781', 'pixel782', 'pixel783'],\n",
      "      dtype='object', length=785)\n",
      "785\n",
      "<class 'pandas.core.frame.DataFrame'>\n",
      "RangeIndex: 42000 entries, 0 to 41999\n",
      "Columns: 785 entries, label to pixel783\n",
      "dtypes: int64(785)\n",
      "memory usage: 251.5 MB\n",
      "None\n"
     ]
    }
   ],
   "source": [
    "# basic training data inspection\n",
    "print(train.columns)\n",
    "print(len(train.columns))\n",
    "print(train.info())"
   ]
  },
  {
   "cell_type": "code",
   "execution_count": 60,
   "metadata": {},
   "outputs": [
    {
     "name": "stdout",
     "output_type": "stream",
     "text": [
      "count       785\n",
      "unique        1\n",
      "top       False\n",
      "freq        785\n",
      "dtype: object \n",
      "\n",
      "count       784\n",
      "unique        1\n",
      "top       False\n",
      "freq        784\n",
      "dtype: object \n",
      "\n"
     ]
    }
   ],
   "source": [
    "# check for null values in data\n",
    "for x in (train, test):\n",
    "    print(x.isnull().any().describe(), '\\n')"
   ]
  },
  {
   "cell_type": "code",
   "execution_count": 61,
   "metadata": {},
   "outputs": [],
   "source": [
    "# split training data into features and labels\n",
    "y_train = train['label'].copy()"
   ]
  },
  {
   "cell_type": "code",
   "execution_count": 62,
   "metadata": {},
   "outputs": [],
   "source": [
    "# split x_train from training data and remove target label column\n",
    "x_train = train.drop('label', axis=1).copy()"
   ]
  },
  {
   "cell_type": "code",
   "execution_count": 63,
   "metadata": {},
   "outputs": [],
   "source": [
    "# clear original dataframe from memory\n",
    "del train"
   ]
  },
  {
   "cell_type": "code",
   "execution_count": 64,
   "metadata": {},
   "outputs": [
    {
     "name": "stdout",
     "output_type": "stream",
     "text": [
      "Training data shape:(42000, 784)\n",
      "Target label shape :(42000,)\n",
      "Test data shape:(28000, 784)\n"
     ]
    }
   ],
   "source": [
    "# print data shape\n",
    "print('Training data shape:{}'.format(x_train.shape))\n",
    "print('Target label shape :{}'.format(y_train.shape))\n",
    "print('Test data shape:{}'.format(test.shape))"
   ]
  },
  {
   "cell_type": "code",
   "execution_count": 65,
   "metadata": {},
   "outputs": [
    {
     "name": "stdout",
     "output_type": "stream",
     "text": [
      "1    4684\n",
      "7    4401\n",
      "3    4351\n",
      "9    4188\n",
      "2    4177\n",
      "6    4137\n",
      "0    4132\n",
      "4    4072\n",
      "8    4063\n",
      "5    3795\n",
      "Name: label, dtype: int64\n"
     ]
    }
   ],
   "source": [
    "# observe class distribution\n",
    "print(y_train.value_counts())"
   ]
  },
  {
   "cell_type": "code",
   "execution_count": 25,
   "metadata": {},
   "outputs": [
    {
     "data": {
      "image/png": "[encoded data removed]",
      "text/plain": [
       "<Figure size 792x504 with 1 Axes>"
      ]
     },
     "metadata": {},
     "output_type": "display_data"
    }
   ],
   "source": [
    "# create bar chart of label distribution\n",
    "g = sns.countplot(y_train)"
   ]
  },
  {
   "cell_type": "markdown",
   "metadata": {},
   "source": [
    "## Image Transformation\n",
    "Visualise images by converting DF values into np floats and plotting"
   ]
  },
  {
   "cell_type": "code",
   "execution_count": 66,
   "metadata": {},
   "outputs": [],
   "source": [
    "# convert training data into np floats\n",
    "x_train = x_train[:].values.astype(np.float)"
   ]
  },
  {
   "cell_type": "code",
   "execution_count": 67,
   "metadata": {},
   "outputs": [],
   "source": [
    "# convert labels into np floats\n",
    "y_train = y_train[:].values.astype(np.float)"
   ]
  },
  {
   "cell_type": "code",
   "execution_count": 68,
   "metadata": {},
   "outputs": [],
   "source": [
    "# convert test data into np floats\n",
    "x_test = test.values.astype(np.float)"
   ]
  },
  {
   "cell_type": "code",
   "execution_count": 107,
   "metadata": {},
   "outputs": [
    {
     "data": {
      "image/png": "[encoded data removed]",
      "text/plain": [
       "<Figure size 1008x720 with 16 Axes>"
      ]
     },
     "metadata": {},
     "output_type": "display_data"
    }
   ],
   "source": [
    "# plot sample training data\n",
    "x, y = 4, 4\n",
    "plt.figure(figsize=(14,10))\n",
    "for i in range(16):  \n",
    "    plt.subplot(y, x, i+1)\n",
    "    plt.imshow(x_train[i+14].reshape((28,28)),interpolation='nearest', cmap='gist_yarg')\n",
    "plt.show()"
   ]
  },
  {
   "cell_type": "markdown",
   "metadata": {},
   "source": [
    "### Normalize images\n",
    "Reduce images from RBG 0,255 to Black 0,1"
   ]
  },
  {
   "cell_type": "code",
   "execution_count": 108,
   "metadata": {},
   "outputs": [],
   "source": [
    "x_train = x_train / 255.0\n",
    "x_test = x_test / 255.0"
   ]
  },
  {
   "cell_type": "code",
   "execution_count": 113,
   "metadata": {},
   "outputs": [
    {
     "name": "stdout",
     "output_type": "stream",
     "text": [
      "(42000, 784)\n",
      "(28000, 784)\n",
      "42000\n"
     ]
    }
   ],
   "source": [
    "print(x_train.shape) # returns tuple of 0,1 indexes\n",
    "print(x_test.shape)\n",
    "print(x_train.shape[0]) # value for reshaping training data into matrix"
   ]
  },
  {
   "cell_type": "code",
   "execution_count": 114,
   "metadata": {},
   "outputs": [],
   "source": [
    "# reshape original data from format (rows, array) to (rows, x, y, channel)\n",
    "# use capital X to define matrix format input data for keras and retain x_train for future\n",
    "X_train = x_train.reshape(x_train.shape[0], 28, 28, 1)\n",
    "X_test = x_test.reshape(x_test.shape[0], 28, 28, 1)"
   ]
  },
  {
   "cell_type": "code",
   "execution_count": 117,
   "metadata": {},
   "outputs": [
    {
     "name": "stdout",
     "output_type": "stream",
     "text": [
      "(42000, 28, 28, 1)\n",
      "(28000, 28, 28, 1)\n"
     ]
    }
   ],
   "source": [
    "print(X_train.shape)\n",
    "print(X_test.shape)"
   ]
  },
  {
   "cell_type": "markdown",
   "metadata": {},
   "source": [
    "### Encode labels into OHE"
   ]
  },
  {
   "cell_type": "code",
   "execution_count": 137,
   "metadata": {},
   "outputs": [
    {
     "name": "stdout",
     "output_type": "stream",
     "text": [
      "Number of class labels: 10\n"
     ]
    }
   ],
   "source": [
    "# define number of classes\n",
    "targets = len((np.unique(y_train)))\n",
    "print('Number of class labels: {}'.format(targets))"
   ]
  },
  {
   "cell_type": "code",
   "execution_count": 138,
   "metadata": {},
   "outputs": [],
   "source": [
    "# convert labels into one hot categorical representation\n",
    "Y_train = to_categorical(y_train, num_classes=targets)"
   ]
  },
  {
   "cell_type": "code",
   "execution_count": 139,
   "metadata": {},
   "outputs": [
    {
     "name": "stdout",
     "output_type": "stream",
     "text": [
      "1.0\n",
      "[0. 1. 0. 0. 0. 0. 0. 0. 0. 0.]\n"
     ]
    }
   ],
   "source": [
    "# compare representations\n",
    "print(y_train[0])\n",
    "print(Y_train[0])"
   ]
  },
  {
   "cell_type": "markdown",
   "metadata": {},
   "source": [
    "### Split training data into train and evaluation sets"
   ]
  },
  {
   "cell_type": "code",
   "execution_count": 142,
   "metadata": {},
   "outputs": [],
   "source": [
    "# set random seed for reproducibility \n",
    "random_seed = 14"
   ]
  },
  {
   "cell_type": "code",
   "execution_count": 144,
   "metadata": {},
   "outputs": [],
   "source": [
    "# create train test split using 10% for eval\n",
    "# retain original X_train for further split experiments\n",
    "# use k_trainX notation for keras model splits\n",
    "k_trainX, k_valX, k_trainY, k_valY = train_test_split(X_train, Y_train, \n",
    "                                                      test_size=0.1,\n",
    "                                                      random_state=random_seed)"
   ]
  },
  {
   "cell_type": "markdown",
   "metadata": {},
   "source": [
    "## Model Development"
   ]
  },
  {
   "cell_type": "markdown",
   "metadata": {},
   "source": [
    "### Standard CNN architecture\n",
    "Use a simple and proven model design for this dataset to understand the basics of image classification.\n",
    "\n",
    "Taken from [https://www.kaggle.com/yassineghouzam/introduction-to-cnn-keras-0-997-top-6/notebook] and [https://www.kaggle.com/adityaecdrid/mnist-with-keras-for-beginners-99457] adapted slightly for tf.keras. This model achieves a high baseline score and can be further improved using data augmentation methods for increasing performance. \n",
    "\n",
    "These methods are a good starting point for CV based tasks.\n",
    "\n",
    "// use Keras api for plaidml acceleration\n"
   ]
  },
  {
   "cell_type": "markdown",
   "metadata": {},
   "source": [
    "### Model Design\n",
    "Sequential Model:\n",
    "    \n",
    "    - Conv2D [ filters=32, kernel=(5,5) ] [ input_shape = (28,28,1) ]\n",
    "    - Conv2D [ filters=32, kernel=(5,5) ]\n",
    "    - MaxPool2D [ pool_size=(2,2) ]\n",
    "    - Dropout [ 0.2 ]\n",
    "    \n",
    "    - Conv2D [ filters=64, kernel=(3,3) ] # double filters, reduce kernel: Downsampling\n",
    "    - Conv2D [ filters=64, kernel=(3,3) ]\n",
    "    - MaxPool2D [ pool_size=(2,2), strides=(2,2) ] # stride for final pooling\n",
    "    - Dropout [ 0.2 ]\n",
    "    - Flatten # create single vector for dense classifier\n",
    "    \n",
    "    - Dense [ 256 ]\n",
    "    - Dropout [ 0.2 ]\n",
    "    - Dense [ 10  activation=softmax ] # final classifier, softmax for prediction"
   ]
  },
  {
   "cell_type": "code",
   "execution_count": 147,
   "metadata": {},
   "outputs": [],
   "source": [
    "# define model parameters for reuse\n",
    "train_shape = (28,28,1)\n",
    "num_class = targets # for reference"
   ]
  },
  {
   "cell_type": "code",
   "execution_count": 177,
   "metadata": {},
   "outputs": [],
   "source": [
    "# create model using tf.keras api\n",
    "# use K naming for models to allow for futher experiments in this notebook on the same training data\n",
    "model_k0 = Sequential()"
   ]
  },
  {
   "cell_type": "code",
   "execution_count": 178,
   "metadata": {},
   "outputs": [],
   "source": [
    "# add first set of convolutions\n",
    "model_k0.add(Conv2D(filters=32, kernel_size=(5,5), input_shape=train_shape, activation='relu')) # input layer\n",
    "model_k0.add(Conv2D(32, (5,5), activation='relu'))\n",
    "model_k0.add(MaxPool2D(pool_size=(2,2)))\n",
    "model_k0.add(Dropout(0.2))"
   ]
  },
  {
   "cell_type": "code",
   "execution_count": 179,
   "metadata": {},
   "outputs": [],
   "source": [
    "# add second set of convolutions\n",
    "# double filter size # reduce kernel size\n",
    "model_k0.add(Conv2D(filters=64, kernel_size=(3,3), activation='relu'))\n",
    "model_k0.add(Conv2D(64, (3,3), activation='relu'))\n",
    "model_k0.add(MaxPool2D(pool_size=(2,2), strides=(2,2))) # add stride for final pooling\n",
    "model_k0.add(Dropout(0.2))"
   ]
  },
  {
   "cell_type": "code",
   "execution_count": 180,
   "metadata": {},
   "outputs": [],
   "source": [
    "# flatten convolutions\n",
    "model_k0.add(Flatten())"
   ]
  },
  {
   "cell_type": "code",
   "execution_count": 181,
   "metadata": {},
   "outputs": [],
   "source": [
    "# add dense classifier\n",
    "model_k0.add(Dense(256, activation='relu'))\n",
    "model_k0.add(Dropout(0.4))\n",
    "model_k0.add(Dense(10, activation='softmax'))"
   ]
  },
  {
   "cell_type": "code",
   "execution_count": 182,
   "metadata": {},
   "outputs": [],
   "source": [
    "### Compile Model Optimizer and Loss function\n",
    "# adam achieves 99% training, 98% val, suggest slight overfitting\n",
    "# RMSProp \n",
    "model_k0.compile(optimizer=keras.optimizers.RMSprop(), loss='categorical_crossentropy', metrics=['accuracy'])"
   ]
  },
  {
   "cell_type": "code",
   "execution_count": 183,
   "metadata": {},
   "outputs": [
    {
     "name": "stdout",
     "output_type": "stream",
     "text": [
      "_________________________________________________________________\n",
      "Layer (type)                 Output Shape              Param #   \n",
      "=================================================================\n",
      "conv2d_7 (Conv2D)            (None, 24, 24, 32)        832       \n",
      "_________________________________________________________________\n",
      "conv2d_8 (Conv2D)            (None, 20, 20, 32)        25632     \n",
      "_________________________________________________________________\n",
      "max_pooling2d_3 (MaxPooling2 (None, 10, 10, 32)        0         \n",
      "_________________________________________________________________\n",
      "dropout_4 (Dropout)          (None, 10, 10, 32)        0         \n",
      "_________________________________________________________________\n",
      "conv2d_9 (Conv2D)            (None, 8, 8, 64)          18496     \n",
      "_________________________________________________________________\n",
      "conv2d_10 (Conv2D)           (None, 6, 6, 64)          36928     \n",
      "_________________________________________________________________\n",
      "max_pooling2d_4 (MaxPooling2 (None, 3, 3, 64)          0         \n",
      "_________________________________________________________________\n",
      "dropout_5 (Dropout)          (None, 3, 3, 64)          0         \n",
      "_________________________________________________________________\n",
      "flatten_2 (Flatten)          (None, 576)               0         \n",
      "_________________________________________________________________\n",
      "dense_3 (Dense)              (None, 256)               147712    \n",
      "_________________________________________________________________\n",
      "dropout_6 (Dropout)          (None, 256)               0         \n",
      "_________________________________________________________________\n",
      "dense_4 (Dense)              (None, 10)                2570      \n",
      "=================================================================\n",
      "Total params: 232,170\n",
      "Trainable params: 232,170\n",
      "Non-trainable params: 0\n",
      "_________________________________________________________________\n"
     ]
    }
   ],
   "source": [
    "# final model design\n",
    "model_k0.summary()"
   ]
  },
  {
   "cell_type": "markdown",
   "metadata": {},
   "source": [
    "### First run model training \n",
    "establish baseline performance for this simple model design\n",
    "\n",
    "increase performance in subsequent training experiments with parameter turning and\n",
    "image data generator\n"
   ]
  },
  {
   "cell_type": "code",
   "execution_count": 173,
   "metadata": {},
   "outputs": [
    {
     "name": "stdout",
     "output_type": "stream",
     "text": [
      "Train on 37800 samples, validate on 4200 samples\n",
      "Epoch 1/10\n",
      "37760/37800 [============================>.] - ETA: 0s - loss: 0.0199 - acc: 0.9939"
     ]
    },
    {
     "name": "stderr",
     "output_type": "stream",
     "text": [
      "INFO:plaidml:Analyzing Ops: 95 of 271 operations complete\n"
     ]
    },
    {
     "name": "stdout",
     "output_type": "stream",
     "text": [
      "37800/37800 [==============================] - 39s 1ms/step - loss: 0.0199 - acc: 0.9939 - val_loss: 0.0374 - val_acc: 0.9900\n",
      "Epoch 2/10\n",
      "37800/37800 [==============================] - 27s 719us/step - loss: 0.0195 - acc: 0.9943 - val_loss: 0.0550 - val_acc: 0.9871\n",
      "Epoch 3/10\n",
      "37800/37800 [==============================] - 27s 715us/step - loss: 0.0175 - acc: 0.9949 - val_loss: 0.0450 - val_acc: 0.9890\n",
      "Epoch 4/10\n",
      "37800/37800 [==============================] - 27s 715us/step - loss: 0.0175 - acc: 0.9950 - val_loss: 0.0412 - val_acc: 0.9914\n",
      "Epoch 5/10\n",
      "37800/37800 [==============================] - 27s 715us/step - loss: 0.0164 - acc: 0.9954 - val_loss: 0.0375 - val_acc: 0.9917\n",
      "Epoch 6/10\n",
      "37800/37800 [==============================] - 27s 716us/step - loss: 0.0156 - acc: 0.9956 - val_loss: 0.0489 - val_acc: 0.9895\n",
      "Epoch 7/10\n",
      "37800/37800 [==============================] - 27s 721us/step - loss: 0.0157 - acc: 0.9956 - val_loss: 0.0595 - val_acc: 0.9886\n",
      "Epoch 8/10\n",
      "37800/37800 [==============================] - 27s 719us/step - loss: 0.0148 - acc: 0.9962 - val_loss: 0.0513 - val_acc: 0.9905\n",
      "Epoch 9/10\n",
      "37800/37800 [==============================] - 27s 720us/step - loss: 0.0137 - acc: 0.9958 - val_loss: 0.0402 - val_acc: 0.9917\n",
      "Epoch 10/10\n",
      "37800/37800 [==============================] - 27s 707us/step - loss: 0.0149 - acc: 0.9957 - val_loss: 0.0527 - val_acc: 0.9886\n"
     ]
    }
   ],
   "source": [
    "history = model_k0.fit(k_trainX, k_trainY, batch_size=64, epochs=10, \n",
    "                       validation_data=(k_valX, k_valY), verbose=1)"
   ]
  },
  {
   "cell_type": "markdown",
   "metadata": {},
   "source": [
    "### Data Augmentation and Reduce on LR\n",
    "Overfitting slightly as val acc is lower than training acc.\n",
    "\n",
    "Use image data generator and learning rate plateu to combat overfitting and increase validation accuracy.\n",
    "\n",
    "Possibly increase train test split and observe results change"
   ]
  },
  {
   "cell_type": "code",
   "execution_count": 176,
   "metadata": {},
   "outputs": [],
   "source": [
    "# define learning rate callback\n",
    "# reduce learning rate when accuracy does not improve\n",
    "# use method from kaggle kernel to observe performance improvement\n",
    "lr_callback = ReduceLROnPlateau(monitor='val_acc', patience=3, verbose=1, factor=0.5,\n",
    "                                min_lr=0.00001\n",
    ")"
   ]
  },
  {
   "cell_type": "markdown",
   "metadata": {},
   "source": [
    "### Data Augmentation\n",
    "Apply a set of simple image transform operations to generate data:\n",
    "\n",
    "    - 10 degree rotation\n",
    "    - 10% zoom\n",
    "    - 10% horizontal width shift\n",
    "    - 10% vertical height shift"
   ]
  },
  {
   "cell_type": "code",
   "execution_count": 184,
   "metadata": {},
   "outputs": [],
   "source": [
    "# all other params of data generator default to false\n",
    "# such as mean centering and whitening\n",
    "# set data generator dict params\n",
    "datagen = ImageDataGenerator(\n",
    "    rotation_range=10, zoom_range=0.1, width_shift_range=0.1, height_shift_range=0.1\n",
    ")"
   ]
  },
  {
   "cell_type": "code",
   "execution_count": 185,
   "metadata": {},
   "outputs": [],
   "source": [
    "# fit generator to training data\n",
    "# fit on k_trainX to retain train test split\n",
    "datagen.fit(k_trainX)"
   ]
  },
  {
   "cell_type": "code",
   "execution_count": 191,
   "metadata": {},
   "outputs": [
    {
     "data": {
      "text/plain": [
       "439"
      ]
     },
     "execution_count": 191,
     "metadata": {},
     "output_type": "execute_result"
    }
   ],
   "source": [
    "len(k_trainX) // 86"
   ]
  },
  {
   "cell_type": "code",
   "execution_count": 187,
   "metadata": {},
   "outputs": [
    {
     "data": {
      "text/plain": [
       "(37800, 28, 28, 1)"
      ]
     },
     "execution_count": 187,
     "metadata": {},
     "output_type": "execute_result"
    }
   ],
   "source": [
    "k_trainX.shape"
   ]
  },
  {
   "cell_type": "code",
   "execution_count": 193,
   "metadata": {},
   "outputs": [
    {
     "name": "stdout",
     "output_type": "stream",
     "text": [
      "Epoch 1/5\n",
      "439/439 [==============================] - 33s 75ms/step - loss: 0.1127 - acc: 0.9660 - val_loss: 0.0525 - val_acc: 0.9821\n",
      "Epoch 2/5\n",
      "439/439 [==============================] - 30s 69ms/step - loss: 0.0909 - acc: 0.9722 - val_loss: 0.0352 - val_acc: 0.9886\n",
      "Epoch 3/5\n",
      "439/439 [==============================] - 30s 69ms/step - loss: 0.0791 - acc: 0.9756 - val_loss: 0.0313 - val_acc: 0.9924\n",
      "Epoch 4/5\n",
      "439/439 [==============================] - 30s 69ms/step - loss: 0.0706 - acc: 0.9796 - val_loss: 0.0314 - val_acc: 0.9910\n",
      "Epoch 5/5\n",
      "439/439 [==============================] - 31s 70ms/step - loss: 0.0656 - acc: 0.9808 - val_loss: 0.0356 - val_acc: 0.9900\n"
     ]
    }
   ],
   "source": [
    "# repeat model training using generator fit\n",
    "# use datagen.flow to feed batches in real time during model training\n",
    "# use the same batch size as kaggle notebook and earlier model for consistency\n",
    "# use floor division for steps per epoch by batch size\n",
    "# notebook uses X_train.shape[0] which is == len(X_train)\n",
    "# add learning rate callback to optimize lr\n",
    "history = model_k0.fit_generator(\n",
    "    datagen.flow(k_trainX, k_trainY, batch_size=86),\n",
    "    validation_data=(k_valX, k_valY),\n",
    "    steps_per_epoch=len(k_trainX) // 86, epochs=5,\n",
    "    callbacks=[lr_callback], verbose=1\n",
    ")"
   ]
  },
  {
   "cell_type": "markdown",
   "metadata": {},
   "source": [
    "### Results\n",
    "Validation accuracy > training accuracy, shows that data augmentation helped reduce overfitting and the model is more reliable and higher performing than before. \n",
    "\n",
    "Repeat training with more epochs to try to come close to kaggle top percentil of 99.7% accuracy."
   ]
  },
  {
   "cell_type": "code",
   "execution_count": 194,
   "metadata": {},
   "outputs": [
    {
     "name": "stdout",
     "output_type": "stream",
     "text": [
      "Epoch 1/15\n",
      "439/439 [==============================] - 31s 71ms/step - loss: 0.0594 - acc: 0.9831 - val_loss: 0.0333 - val_acc: 0.9919\n",
      "Epoch 2/15\n",
      "439/439 [==============================] - 30s 69ms/step - loss: 0.0588 - acc: 0.9833 - val_loss: 0.0433 - val_acc: 0.9898\n",
      "Epoch 3/15\n",
      "439/439 [==============================] - 30s 69ms/step - loss: 0.0543 - acc: 0.9841 - val_loss: 0.0390 - val_acc: 0.9898\n",
      "Epoch 4/15\n",
      "439/439 [==============================] - 30s 69ms/step - loss: 0.0523 - acc: 0.9852 - val_loss: 0.0477 - val_acc: 0.9867\n",
      "\n",
      "Epoch 00004: ReduceLROnPlateau reducing learning rate to 0.0005000000237487257.\n",
      "Epoch 5/15\n",
      "439/439 [==============================] - 30s 69ms/step - loss: 0.0405 - acc: 0.9887 - val_loss: 0.0271 - val_acc: 0.9921\n",
      "Epoch 6/15\n",
      "439/439 [==============================] - 30s 69ms/step - loss: 0.0378 - acc: 0.9891 - val_loss: 0.0300 - val_acc: 0.9926\n",
      "Epoch 7/15\n",
      "439/439 [==============================] - 30s 69ms/step - loss: 0.0381 - acc: 0.9892 - val_loss: 0.0297 - val_acc: 0.9936\n",
      "Epoch 8/15\n",
      "439/439 [==============================] - 31s 70ms/step - loss: 0.0384 - acc: 0.9901 - val_loss: 0.0255 - val_acc: 0.9950\n",
      "Epoch 9/15\n",
      "439/439 [==============================] - 30s 69ms/step - loss: 0.0385 - acc: 0.9892 - val_loss: 0.0274 - val_acc: 0.9940\n",
      "Epoch 10/15\n",
      "439/439 [==============================] - 30s 69ms/step - loss: 0.0388 - acc: 0.9891 - val_loss: 0.0326 - val_acc: 0.9924\n",
      "Epoch 11/15\n",
      "439/439 [==============================] - 30s 69ms/step - loss: 0.0346 - acc: 0.9898 - val_loss: 0.0323 - val_acc: 0.9938\n",
      "\n",
      "Epoch 00011: ReduceLROnPlateau reducing learning rate to 0.0002500000118743628.\n",
      "Epoch 12/15\n",
      "439/439 [==============================] - 30s 69ms/step - loss: 0.0314 - acc: 0.9909 - val_loss: 0.0283 - val_acc: 0.9936\n",
      "Epoch 13/15\n",
      "439/439 [==============================] - 30s 69ms/step - loss: 0.0314 - acc: 0.9914 - val_loss: 0.0281 - val_acc: 0.9940\n",
      "Epoch 14/15\n",
      "439/439 [==============================] - 31s 70ms/step - loss: 0.0289 - acc: 0.9918 - val_loss: 0.0293 - val_acc: 0.9931\n",
      "\n",
      "Epoch 00014: ReduceLROnPlateau reducing learning rate to 0.0001250000059371814.\n",
      "Epoch 15/15\n",
      "439/439 [==============================] - 30s 69ms/step - loss: 0.0260 - acc: 0.9922 - val_loss: 0.0318 - val_acc: 0.9945\n"
     ]
    }
   ],
   "source": [
    "# repeat for 15 epochs\n",
    "history = model_k0.fit_generator(\n",
    "    datagen.flow(k_trainX, k_trainY, batch_size=86),\n",
    "    validation_data=(k_valX, k_valY),\n",
    "    steps_per_epoch=len(k_trainX) // 86, epochs=15,\n",
    "    callbacks=[lr_callback], verbose=1\n",
    ")"
   ]
  },
  {
   "cell_type": "markdown",
   "metadata": {},
   "source": [
    "## Final Result\n",
    "#### Val Acc 99.45%, Acc 99.22%"
   ]
  },
  {
   "cell_type": "code",
   "execution_count": null,
   "metadata": {},
   "outputs": [],
   "source": []
  }
 ],
 "metadata": {
  "kernelspec": {
   "display_name": "Python 3",
   "language": "python",
   "name": "python3"
  },
  "language_info": {
   "codemirror_mode": {
    "name": "ipython",
    "version": 3
   },
   "file_extension": ".py",
   "mimetype": "text/x-python",
   "name": "python",
   "nbconvert_exporter": "python",
   "pygments_lexer": "ipython3",
   "version": "3.7.4"
  }
 },
 "nbformat": 4,
 "nbformat_minor": 4
}
