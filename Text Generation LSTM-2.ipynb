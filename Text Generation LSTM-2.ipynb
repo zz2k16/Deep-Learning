{
 "cells": [
  {
   "cell_type": "markdown",
   "metadata": {},
   "source": [
    "# Download and parse initial text file"
   ]
  },
  {
   "cell_type": "code",
   "execution_count": 1,
   "metadata": {},
   "outputs": [
    {
     "name": "stderr",
     "output_type": "stream",
     "text": [
      "/home/ubuntu/anaconda3/envs/tensorflow_p36/lib/python3.6/site-packages/h5py/__init__.py:36: FutureWarning: Conversion of the second argument of issubdtype from `float` to `np.floating` is deprecated. In future, it will be treated as `np.float64 == np.dtype(float).type`.\n",
      "  from ._conv import register_converters as _register_converters\n",
      "Using TensorFlow backend.\n"
     ]
    }
   ],
   "source": [
    "import keras\n",
    "import numpy as np"
   ]
  },
  {
   "cell_type": "code",
   "execution_count": 2,
   "metadata": {},
   "outputs": [],
   "source": [
    "harry_path = 'harrypotter.txt'"
   ]
  },
  {
   "cell_type": "code",
   "execution_count": 3,
   "metadata": {},
   "outputs": [],
   "source": [
    "text = open(harry_path,).read().lower()"
   ]
  },
  {
   "cell_type": "code",
   "execution_count": 4,
   "metadata": {},
   "outputs": [],
   "source": [
    "#clean text\n",
    "def clean_str(text):\n",
    "    raw_tokens = text.split()\n",
    "    clean_t = [word.lower() for word in raw_tokens if word.isalpha()]\n",
    "    return ' '.join(clean_t)"
   ]
  },
  {
   "cell_type": "code",
   "execution_count": 5,
   "metadata": {},
   "outputs": [
    {
     "name": "stdout",
     "output_type": "stream",
     "text": [
      "Corpus length:442745\n"
     ]
    }
   ],
   "source": [
    "print('Corpus length:{}'.format(len(text)))"
   ]
  },
  {
   "cell_type": "code",
   "execution_count": 6,
   "metadata": {},
   "outputs": [
    {
     "data": {
      "text/plain": [
       "str"
      ]
     },
     "execution_count": 6,
     "metadata": {},
     "output_type": "execute_result"
    }
   ],
   "source": [
    "type(text)"
   ]
  },
  {
   "cell_type": "code",
   "execution_count": 7,
   "metadata": {},
   "outputs": [
    {
     "name": "stdout",
     "output_type": "stream",
     "text": [
      "harry potter and the sorcerer's stone \n",
      "\n",
      "chapter one \n",
      "\n",
      "the boy who lived \n",
      "\n",
      "mr. and mrs. dursley, of number four, privet drive, were proud to say that they were perfectly normal, thank you very much. they were the last people you'd expect to be involved in anything strange or mysterious, because they \n"
     ]
    }
   ],
   "source": [
    "print(text[:300])"
   ]
  },
  {
   "cell_type": "markdown",
   "metadata": {},
   "source": [
    "## Vectorize sequences of characters"
   ]
  },
  {
   "cell_type": "markdown",
   "metadata": {},
   "source": [
    "Partially extract overlapping sequences of length maxlen,\n",
    "one-hot encode them,\n",
    "pack them in a 3D numpy array 'x' of shape(sequences, maxlen, unique_characters).\n",
    "\n",
    "Simultaneously prepare an array 'y' containing the corresponding targers: one-hot encoded\n",
    "characters that come after each extract sequence."
   ]
  },
  {
   "cell_type": "code",
   "execution_count": 8,
   "metadata": {},
   "outputs": [],
   "source": [
    "# extract sequences of 60 characters, and sample a new sequence every three characters\n",
    "maxlen = 60\n",
    "step = 3"
   ]
  },
  {
   "cell_type": "code",
   "execution_count": 9,
   "metadata": {},
   "outputs": [],
   "source": [
    "# hold the extracted sequences and targets (follow up characters)\n",
    "sentences = []\n",
    "next_chars = []"
   ]
  },
  {
   "cell_type": "code",
   "execution_count": 10,
   "metadata": {},
   "outputs": [],
   "source": [
    "# extract sequences\n",
    "for i in range(0, len(text) - maxlen, step):\n",
    "    sentences.append(text[i: i + maxlen])\n",
    "    next_chars.append(text[i + maxlen])\n"
   ]
  },
  {
   "cell_type": "code",
   "execution_count": 11,
   "metadata": {},
   "outputs": [
    {
     "name": "stdout",
     "output_type": "stream",
     "text": [
      "Number of sequences 147562\n"
     ]
    }
   ],
   "source": [
    "# print number of sentences in corpus\n",
    "print('Number of sequences', len(sentences))"
   ]
  },
  {
   "cell_type": "code",
   "execution_count": 12,
   "metadata": {},
   "outputs": [
    {
     "name": "stdout",
     "output_type": "stream",
     "text": [
      "Unique characters: 54\n",
      "['\\n', ' ', '!', '\"', \"'\", '(', ')', '*', ',', '-', '.', '0', '1', '2', '3', '4', '5', '6', '7', '8', '9', ':', ';', '?', '\\\\', 'a', 'b', 'c', 'd', 'e', 'f', 'g', 'h', 'i', 'j', 'k', 'l', 'm', 'n', 'o', 'p', 'q', 'r', 's', 't', 'u', 'v', 'w', 'x', 'y', 'z', '~', 'ì', 'ñ']\n"
     ]
    }
   ],
   "source": [
    "# list of unique characters in corpus\n",
    "chars = sorted(list(set(text)))\n",
    "print('Unique characters:', len(chars))\n",
    "print(chars)"
   ]
  },
  {
   "cell_type": "code",
   "execution_count": 13,
   "metadata": {},
   "outputs": [],
   "source": [
    "# create dictionary mapping unique characters to their index in the list of 'chars'\n",
    "char_indices = dict(\n",
    "    (char, chars.index(char)) for char in chars\n",
    ")"
   ]
  },
  {
   "cell_type": "code",
   "execution_count": 14,
   "metadata": {},
   "outputs": [
    {
     "name": "stdout",
     "output_type": "stream",
     "text": [
      "{'\\n': 0, ' ': 1, '!': 2, '\"': 3, \"'\": 4, '(': 5, ')': 6, '*': 7, ',': 8, '-': 9, '.': 10, '0': 11, '1': 12, '2': 13, '3': 14, '4': 15, '5': 16, '6': 17, '7': 18, '8': 19, '9': 20, ':': 21, ';': 22, '?': 23, '\\\\': 24, 'a': 25, 'b': 26, 'c': 27, 'd': 28, 'e': 29, 'f': 30, 'g': 31, 'h': 32, 'i': 33, 'j': 34, 'k': 35, 'l': 36, 'm': 37, 'n': 38, 'o': 39, 'p': 40, 'q': 41, 'r': 42, 's': 43, 't': 44, 'u': 45, 'v': 46, 'w': 47, 'x': 48, 'y': 49, 'z': 50, '~': 51, 'ì': 52, 'ñ': 53}\n"
     ]
    }
   ],
   "source": [
    "print(char_indices)"
   ]
  },
  {
   "cell_type": "markdown",
   "metadata": {},
   "source": [
    "## Vectorization"
   ]
  },
  {
   "cell_type": "code",
   "execution_count": 15,
   "metadata": {},
   "outputs": [],
   "source": [
    "# one-hot encode characters into binary arrays\n",
    "x = np.zeros(\n",
    "    (len(sentences), maxlen, len(chars)), dtype=np.bool\n",
    ")"
   ]
  },
  {
   "cell_type": "code",
   "execution_count": 16,
   "metadata": {},
   "outputs": [],
   "source": [
    "y = np.zeros(\n",
    "    (len(sentences), len(chars)), dtype=np.bool\n",
    ")"
   ]
  },
  {
   "cell_type": "code",
   "execution_count": 17,
   "metadata": {},
   "outputs": [],
   "source": [
    "for i, sentence in enumerate(sentences):\n",
    "    for t, char in enumerate(sentence):\n",
    "        x[i, t, char_indices[char]] = 1\n",
    "    y[i, char_indices[next_chars[i]]] = 1"
   ]
  },
  {
   "cell_type": "markdown",
   "metadata": {},
   "source": [
    "# Build Network Architecture"
   ]
  },
  {
   "cell_type": "markdown",
   "metadata": {},
   "source": [
    "Define a network with a single LSTM layer, followed by a Dense classifier, and a softmax over all possible characters"
   ]
  },
  {
   "cell_type": "code",
   "execution_count": 18,
   "metadata": {},
   "outputs": [],
   "source": [
    "# Single layer LSTM model for next-character prediction\n",
    "from keras import layers"
   ]
  },
  {
   "cell_type": "code",
   "execution_count": 19,
   "metadata": {},
   "outputs": [],
   "source": [
    "# define model architecture\n",
    "model = keras.models.Sequential()\n",
    "model.add(layers.LSTM(128, input_shape=(maxlen, len(chars))))\n",
    "model.add(layers.Dropout(0.2))\n",
    "model.add(layers.Dense(len(chars), activation='softmax'))"
   ]
  },
  {
   "cell_type": "code",
   "execution_count": 20,
   "metadata": {},
   "outputs": [],
   "source": [
    "# use categorical crossentropy for loss function as targets are one-hot encoded\n",
    "optimizer = keras.optimizers.RMSprop(lr=0.01)"
   ]
  },
  {
   "cell_type": "code",
   "execution_count": 21,
   "metadata": {},
   "outputs": [],
   "source": [
    "# compile model with loss function and optimizer\n",
    "model.compile(loss='categorical_crossentropy', optimizer=optimizer)"
   ]
  },
  {
   "cell_type": "markdown",
   "metadata": {},
   "source": [
    "## Training the language model and sampling from it\n",
    "\n",
    "### Given a trained model and a seed text snippet, generate new text by repeating the following:\n",
    "1 - Draw from the model of a prob. distrib. for the next character, given the generated text available so far\n",
    "\n",
    "2 - Reweight the distribution to a certain temperature\n",
    "\n",
    "3 - Sample the next character at random according to the reweighted distribution\n",
    "\n",
    "4 - Add a new character at the end of the available text"
   ]
  },
  {
   "cell_type": "code",
   "execution_count": 22,
   "metadata": {},
   "outputs": [],
   "source": [
    "# define reweighting function to apply to the original prob.distrib coming out of the model\n",
    "# and draw a character index from it (sampling function) \n",
    "def sample(preds, temperature=1.0):\n",
    "    preds = np.asarray(preds).astype('float64')\n",
    "    preds = np.log(preds) / temperature\n",
    "    exp_preds = np.exp(preds)\n",
    "    preds = exp_preds / np.sum(exp_preds)\n",
    "    probas = np.random.multinomial(1, preds, 1)\n",
    "    return np.argmax(probas)"
   ]
  },
  {
   "cell_type": "markdown",
   "metadata": {},
   "source": [
    "### Training and text generation loop\n",
    "\n",
    "Repeatedly train and generate text.\n",
    "\n",
    "Begin by generating text using a range of different temperatures after every epoch, to see how the generated text evolves as the model beings to converge, as well as the impact of the temperature in the sampling strategy"
   ]
  },
  {
   "cell_type": "code",
   "execution_count": 23,
   "metadata": {},
   "outputs": [],
   "source": [
    "import random, sys"
   ]
  },
  {
   "cell_type": "code",
   "execution_count": 25,
   "metadata": {
    "scrolled": false
   },
   "outputs": [
    {
     "name": "stdout",
     "output_type": "stream",
     "text": [
      "Epoch:  1\n",
      "Epoch 1/1\n",
      "147562/147562 [==============================] - 95s 643us/step - loss: 1.6774\n",
      "--- Generating with seed: \"on that secret? i set myself against what is lurking in this\"\n",
      " \n",
      "--- temperature: 0.3 \n",
      "\n",
      "\n",
      "on that secret? i set myself against what is lurking in this\n",
      " say the stared and harry had a beated and the and the bears to the harry the the didn't for her in the for the beating and harry was a man a car a who had and he had and he got to harry was the for the was to the stark to the face and harry had and a ter the harry down here when the beard on the still toward out of the never had a said and a stand and a back to have a beard to be and and last on \n",
      "--- temperature: 0.5 \n",
      "\n",
      "\n",
      "nd a stand and a back to have a beard to be and and last on \n",
      "the last of here was a all, and be make of the never the to one to the ground could say something book and out of the tersted and comething have furst to was cauld to be never paies. \n",
      "\n",
      "\"i and hermione told clost been a parted to one and harry had been stand he from and can't lest and the carried to a pane a parce of a filch. \"you said a said on the been and harry have to go in the way car them. \n",
      "\n",
      "\n",
      "--- temperature: 0.7 \n",
      "\n",
      "\n",
      "aid on the been and harry have to go in the way car them. \n",
      "\n",
      "\n",
      "\"did had he to leard's a tick his and. \n",
      "\n",
      "\"i've lan told beard petuncack beated to my thougalt and harry can't mothers flames on one out up who be saying a larced been on the leardy dark dudly like the touse, you had been unce was thet dumbledore crast down the pron malfoy, let dookly the dumbledore was said in a marrir, what a bay, beards to a better stard, she car!\" said he might, a again. one an\n",
      "--- temperature: 0.8 \n",
      "\n",
      "\n",
      " to a better stard, she car!\" said he might, a again. one an\n",
      "d look. surmily had sayt out. trone's you  you then he prach clatch and be threem stable doors -- -- anary, buc ter' harry peep and wards wand the over, botsed as he pulcher booy spaped from of the carby like all ding happored to never they peed so fit look. \n",
      "\n",
      "\"i brounder to me specty he had been. the marking.\" \n",
      "\n",
      "the anowith one mother. \n",
      "\n",
      "\"a mamed had tremom ter enous stack and the ontily by. \n",
      "\n",
      "hi\n",
      "Epoch:  2\n",
      "Epoch 1/1\n",
      "147562/147562 [==============================] - 95s 643us/step - loss: 1.5812\n",
      "--- Generating with seed: \"billowing black hogwarts robes, and harry noticed a shiny si\"\n",
      " \n",
      "--- temperature: 0.3 \n",
      "\n",
      "\n",
      "billowing black hogwarts robes, and harry noticed a shiny si\n",
      "ng the became and say the store the room to the last letter they said the corn't in the read the ground where say a stared of the parery what harry stared and harry proped harry that shat they stared the corner the train. \n",
      "\n",
      "\"you know while the read they said that what harry they was they stared of the behand the stoped of the for the read him and harry and hermione was a to got to the car they wer\n",
      "--- temperature: 0.5 \n",
      "\n",
      "\n",
      " him and harry and hermione was a to got to the car they wer\n",
      "e and harry could be spee stared in that all stared the reason, on his firs tack in the was the door and in sime of the sinly, he was she could had saying the parents had to be back bint on one of their was to get and harry point to sight harry the priples. \n",
      "\n",
      "\"you a broom back to common groked the good the stared they was she dursley had percy finst had to the could be the was the dore. \n",
      "\n",
      "\"i dnden\n",
      "--- temperature: 0.7 \n",
      "\n",
      "\n",
      "percy finst had to the could be the was the dore. \n",
      "\n",
      "\"i dnden\n",
      " had that was still, were with the door and hermione into.t in one must harry, mor got with that harry thell op in one first the snape. \n",
      "\n",
      "the letter reached very had you went had been the few what and suste three stake they had a agrigh that they gry finom ron as she was the grashed the dimment every face what it croed nearly snaped the lustle, that they had reath was going at ham of that the mome\n",
      "--- temperature: 0.8 \n",
      "\n",
      "\n",
      "ustle, that they had reath was going at ham of that the mome\n",
      "nt back his hand, whis shat that dursley pulled. \n",
      "\n",
      "up and say the feet pickers cit she with rrave by question and he might be gold you oogto. they goant you whise they mut ream as paint three cay was that must -- year didn't recony after the prefessing must was a nearly the stare unison't the looked ether grangers. \n",
      "\n",
      "arrid he was tofmed with it of the reads. \n",
      "\n",
      "perion, must fock this there was that\n",
      "Epoch:  3\n",
      "Epoch 1/1\n",
      "147562/147562 [==============================] - 95s 641us/step - loss: 1.5283\n",
      "--- Generating with seed: \"iss was going there too. harry, on the other hand, was going\"\n",
      " \n",
      "--- temperature: 0.3 \n",
      "\n",
      "\n",
      "iss was going there too. harry, on the other hand, was going\n",
      " to the stared the ground the stared to see the stone the for the door he was started and he was nothing the stairs and he stone straint and the told the rooms the stone and the room to the trains when he seep to the stand the room when the mores high the stared the stared to the stared to stone the strain out of the stay to have the start the gran the stare the troll had a about the stone and he \n",
      "--- temperature: 0.5 \n",
      "\n",
      "\n",
      "t the gran the stare the troll had a about the stone and he \n",
      "was trying to hat all the frell. he was one to the studed to talk the took beher with the sorries, and he still, stone that the hat on the troll of his hand the minds and he from the staring are we could hee how in the hand the ron was he was to have the stupid to was stared in the groon really from the stard the cornted the stop and he think the troll his lostle and could the stand of a stone the\n",
      "--- temperature: 0.7 \n",
      "\n",
      "\n",
      "hink the troll his lostle and could the stand of a stone the\n",
      " more shaking creatich of the great drown of neville, part are \n",
      "\n",
      "\"i could seen \"i points and still a so to in the packed the room harry and he didn't be so harry down,\" he had a stark -- gold ron -- he boind to the that the grunted the stone down a broomstid hagrid! harry door good the dursleys out of the siled to the good that looked to be she'd you,\" harry and you wele there?\" \n",
      "\n",
      "\"what well,\" sai\n",
      "--- temperature: 0.8 \n",
      "\n",
      "\n",
      "be she'd you,\" harry and you wele there?\" \n",
      "\n",
      "\"what well,\" sai\n",
      "d hagrid harry held his fonr keepering that it. hanry a lome, \"get it and he had and all his resere, harry been and you into his hone leatsts in the that than we cast -- the edge -- in not in the seally and this mared he ranned to ron. them. \n",
      "\n",
      "see it was seen in his point better you told he moge and to one what all he read with sine funed and what eyes to have through the hoble. \"if she was look a\n",
      "Epoch:  4\n",
      "Epoch 1/1\n",
      "147562/147562 [==============================] - 95s 642us/step - loss: 1.4938\n",
      "--- Generating with seed: \"eping across the stone floor, burning holes in people's shoe\"\n",
      " \n",
      "--- temperature: 0.3 \n",
      "\n",
      "\n",
      "eping across the stone floor, burning holes in people's shoe\n",
      "s and the stop be and the that he was the way the started the room and he turned to the cart of the top and the started and the started the tround the course of the started and he was all the mind the and when he was a towed the fores that the stone of the slet of the tround the had all the stop the strain and harry had a pack at harry and the the strain in the house was sure they said and he was \n",
      "--- temperature: 0.5 \n",
      "\n",
      "\n",
      "d the the strain in the house was sure they said and he was \n",
      "gran of a top and for the way the first sure worr, and the ever one. a wart and hermione had thing the though and the invasilest something to the coundron. \n",
      "\n",
      "\"i --\" \n",
      "\n",
      "\"i see a broom it the looked the really with a letter the took the carry cack. bet it will see you got to be hermione. \n",
      "\n",
      "they were better see -- but there out the off the trouner the ever find and harry seemed to do have for the wall\n",
      "--- temperature: 0.7 \n",
      "\n",
      "\n",
      "ouner the ever find and harry seemed to do have for the wall\n",
      " for come for too and ron around the gryffindor to turned for hundred at the will see and they were really the and the before in him, they was to momoning and chee and because for she was all the bits. \n",
      "\n",
      "\"but it do weve are urse fall though that was and the more had the mind at all the path the dursleys's trall out of the traed in it. stone tread catches going to be brameing. \n",
      "\n",
      "\"it was ron, you be\n",
      "--- temperature: 0.8 \n",
      "\n",
      "\n",
      "ne tread catches going to be brameing. \n",
      "\n",
      "\"it was ron, you be\n"
     ]
    },
    {
     "name": "stdout",
     "output_type": "stream",
     "text": [
      " and were flameling harry had ant me. all them fried the the forcher. \"you'd say, and quirrell's transing out and he know, hahry. \n",
      "\n",
      "\"an' he revery of the merre had depthan notting to do you got strain, where hadre, harry back to all seem got house were book, and you letter ears. very tooking in harry. snape was madar. whe not a like the scrrawn at the hell. brang to the broom and under here it?\" \n",
      "\n",
      "Epoch:  5\n",
      "Epoch 1/1\n",
      "147562/147562 [==============================] - 95s 644us/step - loss: 1.4706\n",
      "--- Generating with seed: \"n't be. there's loads of people who come from muggle familie\"\n",
      " \n",
      "--- temperature: 0.3 \n",
      "\n",
      "\n",
      "n't be. there's loads of people who come from muggle familie\n",
      "s, but he was straing the stone to the starters was more and harry had and to the end on the ground, the door out of the stone of the more was they were startered as they had a start and harry told the more on the corridn't be and they still himself started at his peacing the that he was sorrid last on the potter. \n",
      "\n",
      "\"what harry still a stood for the car how down the first of the starter to pull th\n",
      "--- temperature: 0.5 \n",
      "\n",
      "\n",
      "ood for the car how down the first of the starter to pull th\n",
      "e great was going to see than they had been for the day his behind the rain and feet, and he stay would not himself as he stite a strying to have they had a stone slytherins thing the forest was the some and he was all the brack to say the one to the door. \n",
      "\n",
      "\"sharry and one through the room was more to see harry had sleep behind the left to harry's wents that it was still of them if a houldgent in\n",
      "--- temperature: 0.7 \n",
      "\n",
      "\n",
      "to harry's wents that it was still of them if a houldgent in\n",
      " the end on the poee in a welpon of the moons. \n",
      "\n",
      "\"but malfoy got even so smell strunged clangers of his biging for them. \n",
      "\n",
      "\"and harry can't know start down dumbledore to high the mind on the flaters, but they shoulden in harry called and hands on time the mean as one that they talled of their feet minytarriss. \n",
      "\n",
      "\"clust himself there hand the more he know the seven that when all the inst of the dur\n",
      "--- temperature: 0.8 \n",
      "\n",
      "\n",
      "the more he know the seven that when all the inst of the dur\n",
      "sleys. that neville, but bestice, lump, live. \"you could be good a ground at hands of given the lare of hinding agred couranton taken very snook and telling about be in his see on, move they startly, where's mone, not used to me, they had a packland not on the newstier, a door owl quite the wards ha ictil flieves that off out of the marery to pur the sot that hand room, and ron, his bungled his wa\n",
      "Epoch:  6\n",
      "Epoch 1/1\n",
      "147562/147562 [==============================] - 95s 643us/step - loss: 1.4510\n",
      "--- Generating with seed: \" goyle sniggered behind their hands. snape finished calling \"\n",
      " \n",
      "--- temperature: 0.3 \n",
      "\n",
      "\n",
      " goyle sniggered behind their hands. snape finished calling \n",
      "the streating to be malfoy was a stand to the still the fron had a some of it to the black and the first prefet as the complead to the stone comports and hermione for the forest of the door and the first to starts the stated the was and first seen the troll the was and standed and streak and harry had a streak the troll and the started and harry to see the was the first peaced and say and he was s\n",
      "--- temperature: 0.5 \n",
      "\n",
      "\n",
      "d harry to see the was the first peaced and say and he was s\n",
      "omething and it and harry, it was tree in his something. \n",
      "\n",
      "\"percect him. \n",
      "\n",
      "\"what she started at harry looked in the over at his hand in the day, mance he was and the first please and find the more the stand of the class because he was warn turning the great was a worked on the room was felt to the corridor as she had a pucked to think the ground. \n",
      "\n",
      "\" stare he spone, they had all believed him feing\n",
      "--- temperature: 0.7 \n",
      "\n",
      "\n",
      " ground. \n",
      "\n",
      "\" stare he spone, they had all believed him feing\n",
      "ets turned out of the clranded the first well aermended up a mining the trone, but hagrid saw would get it, gryffindor slapping to have one malfoy was the on the first least all in his house crose the streated no one of the way to deep and feeling the looks winked for the father now the are all and even, but you!\" \n",
      "\n",
      "the great saw the spotted. he only it. \n",
      "\n",
      "he was and hermione smiled and their not \n",
      "--- temperature: 0.8 \n",
      "\n",
      "\n",
      "ted. he only it. \n",
      "\n",
      "he was and hermione smiled and their not \n",
      "taresh. what shoutderen three and think we didn't kept were they're this and flelves three to looked isnother, gryffindors look could turned looked at the door as snape, people at the left in a stranger?\" \n",
      "\n",
      "and the forest room, but we so harryge so how me, the one. \n",
      "\n",
      "\"i and you know wh be.\" \n",
      "\n",
      "styilion trouble marfing wangered again, at him and pulled the sigh and harry even say my first on the fou\n",
      "Epoch:  7\n",
      "Epoch 1/1\n",
      "147562/147562 [==============================] - 95s 643us/step - loss: 1.4348\n",
      "--- Generating with seed: \"arrier. \n",
      "\n",
      "\"yes, please,\" harry panted. \n",
      "\n",
      "\"oy, fred! c'mere a\"\n",
      " \n",
      "--- temperature: 0.3 \n",
      "\n",
      "\n",
      "arrier. \n",
      "\n",
      "\"yes, please,\" harry panted. \n",
      "\n",
      "\"oy, fred! c'mere a\n",
      "nd the the for the back and the thought the right and the one of his head to have to get on the was was the back to the had a some on the more the didn't had a start and the start and the was a moment and the rest on the starts was the the was the stone starts and going to do harry the two stare and start the was the ward the on the thought and malfoy think the start of the stall to stop the back \n",
      "--- temperature: 0.5 \n",
      "\n",
      "\n",
      "ht and malfoy think the start of the stall to stop the back \n",
      "it had heare a seated him on his and the twand the this scrack the tree will had had to the beat of the con the pointed now the way with him the stare down his first stranger and the beat that the stast with his shoped his great where it was the thought where said. \"i turned to be wall scrapped the table a ner down and the head to have a sorced the tall the and whispered the dursleys in the silly \n",
      "--- temperature: 0.7 \n",
      "\n",
      "\n",
      "sorced the tall the and whispered the dursleys in the silly \n",
      "was a time a swill in the thind the way at him harry's feet. \n",
      "\n",
      "\"you was the kind had the right and the new me. hagrid was down the head, dark on it magh live the wand. \"there up. \n",
      "\n",
      "\"i me. it was should look to the mirror of goan in professor sunding out and dande -- we don't the chess?\" \n",
      "\n",
      "harry had a most out the name were calling kne owls on comflitting still the starts and were a a something of \n",
      "--- temperature: 0.8 \n",
      "\n",
      "\n",
      "s on comflitting still the starts and were a a something of \n",
      "sund and a something this thing and have gone of the the bectair into the in here it slot them where i had side the ley an' kind when the troping the room. sawant that gryffindor and the lasny. it on kind the first face out. \n",
      "\n",
      "\"if prokeed the boy. \"have to ollow, , look, i didn't have munded hims to it's searying the mont on one to tee that beards he was beander and held your , many about your boa\n",
      "Epoch:  8\n",
      "Epoch 1/1\n",
      "147562/147562 [==============================] - 95s 642us/step - loss: 1.4232\n",
      "--- Generating with seed: \"burnished bronze doors, wearing a uniform of scarlet and gol\"\n",
      " \n",
      "--- temperature: 0.3 \n",
      "\n",
      "\n",
      "burnished bronze doors, wearing a uniform of scarlet and gol\n",
      "d what he looked he was an the stand and the that had the letter his both fable was face to him and sorrid bottle and hermione was started and harry and hermione said. \"i an' but they were the troll can't have had a surple to harry had said and hermione had never had a some on the cloak and hermione had heard the troll was shope and hermione was all the looked had to the complete he was some on th\n",
      "--- temperature: 0.5 \n",
      "\n",
      "\n",
      "one was all the looked had to the complete he was some on th\n",
      "e more of the counter to the becould and a perceches and harry cauld be the train as he was becould with the pulled to see the way a care that harry was trolled to have to keep her indorn the trees than the sorrid and lear the possione of the chard the potter he stand and snape was the lesson had suddenly said was an and hermione had to the thicked up and harry was no charrs to do mine trought the\n",
      "--- temperature: 0.7 \n",
      "\n",
      "\n",
      "he thicked up and harry was no charrs to do mine trought the\n"
     ]
    },
    {
     "name": "stdout",
     "output_type": "stream",
     "text": [
      " keopen to the an of the slither was malfoy, i should have got to do that they had something of the room, and they shook a man and swike sickly read so plant and at the forgst, wereus in. \n",
      "\n",
      "\"the only manist to him. \n",
      "\n",
      "\"for the hatle -- ead the tall bad. what though the still in his house, and the chanded out of the touch and a surple caught sawhelp he was all if that's it and say him still was cree\n",
      "--- temperature: 0.8 \n",
      "\n",
      "\n",
      "t sawhelp he was all if that's it and say him still was cree\n",
      "n door and crabbe and her stune and hander that he bote with the other shise to a man counting and cramp the looked toed was the might tone the way at harry. he for a kill hagrid. \"thno thing to not a reast had looked more in his pleased in the knees on the kitching to what carcalveran filch of the beain staulder professor dumbledore stiod. \n",
      "\n",
      "he tall, professor in until about everything. \"they're \n",
      "Epoch:  9\n",
      "Epoch 1/1\n",
      "147562/147562 [==============================] - 95s 642us/step - loss: 1.4134\n",
      "--- Generating with seed: \"ought i had the right to face voldemort if i could....\" \n",
      "\n",
      "\"y\"\n",
      " \n",
      "--- temperature: 0.3 \n",
      "\n",
      "\n",
      "ought i had the right to face voldemort if i could....\" \n",
      "\n",
      "\"y\n",
      "ou don't want to see his never been all the staring at the one of the staring at the way and for the could be with the stone, and he had been the staring to the like a stroom had a booked to the marry from the first his one of the street of the stone of the stone, and harry had really been the broom that harry was all the stone. he was the neville was streat and and the broomsticks was shouting al\n",
      "--- temperature: 0.5 \n",
      "\n",
      "\n",
      "e neville was streat and and the broomsticks was shouting al\n",
      "l and shouted a fore of his mouth had the houldn't see a slill before it was going out and a trands at harry of the floor. \n",
      "\n",
      "\"good and the dore snape on his one of the light to light how he stared the grounds. \n",
      "\n",
      "\"what it was shouted the staring to the first top of the staring and place, when they had had something to hagrid to the next of his black of his broom down on the stone. \n",
      "\n",
      "\"we so if it's \n",
      "--- temperature: 0.7 \n",
      "\n",
      "\n",
      " his black of his broom down on the stone. \n",
      "\n",
      "\"we so if it's \n",
      "seen malfoy stopped us aloug their clostnts to harry of his seen scream and the days pat books and way before her allowing, and harry caught the boy last diffeerettat peers. it still been the stone. \n",
      "\n",
      "\"we so the only what's owls care out of his rob!\" said he wander had coiled. \n",
      "\n",
      "\"whose and could there, she had the hand the topded ago. \"only coning a dully out of the hand. \n",
      "\n",
      "he the parken twice and\n",
      "--- temperature: 0.8 \n",
      "\n",
      "\n",
      "ly coning a dully out of the hand. \n",
      "\n",
      "he the parken twice and\n",
      " ears on his man harry's, was eatly but the chatcer, did. \n",
      "\n",
      "\"the down the rost at a close, shorting. \n",
      "\n",
      "\"i stap on the treek out staring to meare ?\" harry thought at wild comered all the house sifting at some spotted to something had strather brandant and all to do the different, but it was once and it down the gorl a boy to his sight. \n",
      "\n",
      "\"when he all that taken never want into a bigling the bloobhe\n"
     ]
    }
   ],
   "source": [
    "# train model for 10 epochs\n",
    "for epoch in range(1, 10):\n",
    "    print('Epoch: ', epoch)\n",
    "    # fit model for one iteration on the data\n",
    "    model.fit(x, y, batch_size=128, epochs=1)\n",
    "    # select a text seed at random\n",
    "    start_index = random.randint(0, len(text) - maxlen - 1)\n",
    "    # generate text\n",
    "    generated_text = text[start_index: start_index + maxlen]\n",
    "    print('--- Generating with seed: \"{}\"\\n '.format(generated_text))\n",
    "    \n",
    "    # try a range of different sampling temperatures\n",
    "    for temperature in [0.3, 0.5, 0.7, 0.8]:\n",
    "        print('--- temperature: {} \\n\\n'.format(temperature))\n",
    "        sys.stdout.write(generated_text)\n",
    "        print()\n",
    "\n",
    "        # We generate 400 characters\n",
    "        for i in range(400):\n",
    "            sampled = np.zeros((1, maxlen, len(chars)))\n",
    "            for t, char in enumerate(generated_text):\n",
    "                sampled[0, t, char_indices[char]] = 1.\n",
    "\n",
    "            preds = model.predict(sampled, verbose=0)[0]\n",
    "            next_index = sample(preds, temperature)\n",
    "            next_char = chars[next_index]\n",
    "\n",
    "            generated_text += next_char\n",
    "            generated_text = generated_text[1:]\n",
    "\n",
    "            sys.stdout.write(next_char)\n",
    "            sys.stdout.flush()\n",
    "        print()"
   ]
  },
  {
   "cell_type": "code",
   "execution_count": null,
   "metadata": {},
   "outputs": [],
   "source": []
  }
 ],
 "metadata": {
  "kernelspec": {
   "display_name": "Environment (conda_tensorflow_p36)",
   "language": "python",
   "name": "conda_tensorflow_p36"
  },
  "language_info": {
   "codemirror_mode": {
    "name": "ipython",
    "version": 3
   },
   "file_extension": ".py",
   "mimetype": "text/x-python",
   "name": "python",
   "nbconvert_exporter": "python",
   "pygments_lexer": "ipython3",
   "version": "3.6.4"
  }
 },
 "nbformat": 4,
 "nbformat_minor": 2
}
