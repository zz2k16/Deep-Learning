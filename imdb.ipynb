{
 "cells": [
  {
   "cell_type": "code",
   "execution_count": 1,
   "metadata": {
    "jupyter": {
     "source_hidden": true
    }
   },
   "outputs": [
    {
     "name": "stderr",
     "output_type": "stream",
     "text": [
      "Using plaidml.keras.backend backend.\n"
     ]
    }
   ],
   "source": [
    "# plaidml Keras default template code\n",
    "import numpy as np\n",
    "import pandas as pd\n",
    "import os\n",
    "import time\n",
    "os.environ[\"KERAS_BACKEND\"] = \"plaidml.keras.backend\"\n",
    "import keras\n",
    "\n",
    "# standard ds imports\n",
    "import matplotlib.pyplot as plt\n",
    "import matplotlib.image as plt_img\n",
    "import seaborn as sns\n",
    "%matplotlib inline\n",
    "# set visualisation settings\n",
    "sns.set(style='white', context='notebook')\n",
    "sns.set_palette(palette='pastel', desat=0.8)\n",
    "# set figure sizes\n",
    "from matplotlib import rcParams\n",
    "# figure size in inches\n",
    "rcParams['figure.figsize'] = 11,7\n",
    "\n",
    "# standard sklearn imports\n",
    "from sklearn.model_selection import train_test_split\n",
    "from sklearn.metrics import confusion_matrix\n",
    "\n",
    "# basic keras sequential model and image imports\n",
    "from keras.utils.np_utils import to_categorical # for one hot encoding\n",
    "from keras.models import Sequential # model\n",
    "from keras.layers import Dense, Dropout, Flatten, Conv2D, MaxPool1D # layers\n",
    "from keras.optimizers import RMSprop # learning optimizer\n",
    "from keras.preprocessing.image import ImageDataGenerator # generator function for loading images\n",
    "from keras.callbacks import ReduceLROnPlateau # learning rate callback for early stopping"
   ]
  },
  {
   "cell_type": "code",
   "execution_count": 2,
   "metadata": {},
   "outputs": [],
   "source": [
    "# load imdb dataset\n",
    "from keras.datasets import imdb"
   ]
  },
  {
   "cell_type": "code",
   "execution_count": 3,
   "metadata": {},
   "outputs": [],
   "source": [
    "# security workaround for numpy pickle param\n",
    "np_load_old = np.load\n",
    "np.load = lambda *a: np_load_old(*a, allow_pickle=True)"
   ]
  },
  {
   "cell_type": "code",
   "execution_count": 4,
   "metadata": {},
   "outputs": [],
   "source": [
    "# download data with 10k max words\n",
    "(train_data, train_labels), (test_data, test_labels) = imdb.load_data(num_words=10000)"
   ]
  },
  {
   "cell_type": "code",
   "execution_count": 5,
   "metadata": {},
   "outputs": [],
   "source": [
    "# restore numpy load\n",
    "np.load = np_load_old"
   ]
  },
  {
   "cell_type": "code",
   "execution_count": 6,
   "metadata": {},
   "outputs": [
    {
     "data": {
      "text/plain": [
       "list"
      ]
     },
     "execution_count": 6,
     "metadata": {},
     "output_type": "execute_result"
    }
   ],
   "source": [
    "type(train_data[0])\n",
    "# data is an array of lists"
   ]
  },
  {
   "cell_type": "code",
   "execution_count": 7,
   "metadata": {},
   "outputs": [
    {
     "name": "stdout",
     "output_type": "stream",
     "text": [
      "218\n",
      "189\n",
      "141\n",
      "550\n",
      "147\n",
      "43\n",
      "123\n",
      "562\n",
      "233\n",
      "130\n"
     ]
    }
   ],
   "source": [
    "# print length of sample reviews\n",
    "for x in range(10): print(len(train_data[x]))"
   ]
  },
  {
   "cell_type": "code",
   "execution_count": 8,
   "metadata": {},
   "outputs": [
    {
     "name": "stdout",
     "output_type": "stream",
     "text": [
      "9999\n"
     ]
    }
   ],
   "source": [
    "# verify number of dictionary words\n",
    "print(max([max(x) for x in train_data]))"
   ]
  },
  {
   "cell_type": "code",
   "execution_count": 9,
   "metadata": {},
   "outputs": [],
   "source": [
    "# reverse dictionary lookup for reviews\n",
    "# convert ints to strings using dictionary index\n",
    "word_index = imdb.get_word_index()"
   ]
  },
  {
   "cell_type": "code",
   "execution_count": 10,
   "metadata": {},
   "outputs": [],
   "source": [
    "# create dictionary mapping for reviews\n",
    "reverse_word_index = dict(\n",
    "    [(value, key) for (key,value) in word_index.items()]\n",
    ")"
   ]
  },
  {
   "cell_type": "code",
   "execution_count": 11,
   "metadata": {
    "collapsed": true,
    "jupyter": {
     "outputs_hidden": true
    }
   },
   "outputs": [
    {
     "name": "stdout",
     "output_type": "stream",
     "text": [
      " this film was just brilliant casting location scenery story direction everyone's really suited the part they played and you could just imagine being there robert  is an amazing actor and now the same being director  father came from the same scottish island as myself so i loved the fact there was a real connection with this film the witty remarks throughout the film were great it was just brilliant so much that i bought the film as soon as it was released for  and would recommend it to everyone to watch and the fly fishing was amazing really cried at the end it was so sad and you know what they say if you cry at a film it must have been good and this definitely was also  to the two little boy's that played the  of norman and paul they were just brilliant children are often left out of the  list i think because the stars that play them all grown up are such a big profile for the whole film but these children are amazing and should be praised for what they have done don't you think the whole story was so lovely because it was true and was someone's life after all that was shared with us all\n",
      "\n",
      "\n",
      "\n",
      " big hair big boobs bad music and a giant safety pin these are the words to best describe this terrible movie i love cheesy horror movies and i've seen hundreds but this had got to be on of the worst ever made the plot is paper thin and ridiculous the acting is an abomination the script is completely laughable the best is the end showdown with the cop and how he worked out who the killer is it's just so damn terribly written the clothes are sickening and funny in equal  the hair is big lots of boobs  men wear those cut  shirts that show off their  sickening that men actually wore them and the music is just  trash that plays over and over again in almost every scene there is trashy music boobs and  taking away bodies and the gym still doesn't close for  all joking aside this is a truly bad film whose only charm is to look back on the disaster that was the 80's and have a good old laugh at how bad everything was back then\n",
      "\n",
      "\n",
      "\n",
      " this has to be one of the worst films of the 1990s when my friends i were watching this film being the target audience it was aimed at we just sat watched the first half an hour with our jaws touching the floor at how bad it really was the rest of the time everyone else in the theatre just started talking to each other leaving or generally crying into their popcorn that they actually paid money they had  working to watch this feeble excuse for a film it must have looked like a great idea on paper but on film it looks like no one in the film has a clue what is going on crap acting crap costumes i can't get across how  this is to watch save yourself an hour a bit of your life\n",
      "\n",
      "\n",
      "\n",
      " the   at storytelling the traditional sort many years after the event i can still see in my  eye an elderly lady my friend's mother retelling the battle of  she makes the characters come alive her passion is that of an eye witness one to the events on the  heath a mile or so from where she lives br br of course it happened many years before she was born but you wouldn't guess from the way she tells it the same story is told in bars the length and  of scotland as i discussed it with a friend one night in  a local cut in to give his version the discussion continued to closing time br br stories passed down like this become part of our being who doesn't remember the stories our parents told us when we were children they become our invisible world and as we grow older they maybe still serve as inspiration or as an emotional  fact and fiction blend with  role models warning stories  magic and mystery br br my name is  like my grandfather and his grandfather before him our protagonist introduces himself to us and also introduces the story that stretches back through generations it produces stories within stories stories that evoke the  wonder of scotland its rugged mountains  in  the stuff of legend yet  is  in reality this is what gives it its special charm it has a rough beauty and authenticity  with some of the finest  singing you will ever hear br br   visits his grandfather in hospital shortly before his death he burns with frustration part of him  to be in the twenty first century to hang out in  but he is raised on the western  among a  speaking community br br yet there is a deeper conflict within him he  to know the truth the truth behind his  ancient stories where does fiction end and he wants to know the truth behind the death of his parents br br he is pulled to make a last  journey to the  of one of  most  mountains can the truth be told or is it all in stories br br in this story about stories we  bloody battles  lovers the  of old and the sometimes more   of accepted truth in doing so we each connect with  as he lives the story of his own life br br  the   is probably the most honest  and genuinely beautiful film of scotland ever made like  i got slightly annoyed with the  of hanging stories on more stories but also like  i  this once i saw the  picture ' forget the box office  of braveheart and its like you might even  the  famous  of the wicker man to see a film that is true to scotland this one is probably unique if you maybe  on it deeply enough you might even re  the power of storytelling and the age old question of whether there are some truths that cannot be told but only experienced\n",
      "\n",
      "\n",
      "\n",
      " worst mistake of my life br br i picked this movie up at target for 5 because i figured hey it's sandler i can get some cheap laughs i was wrong completely wrong mid way through the film all three of my friends were asleep and i was still suffering worst plot worst script worst movie i have ever seen i wanted to hit my head up against a wall for an hour then i'd stop and you know why because it felt damn good upon bashing my head in i stuck that damn movie in the  and watched it burn and that felt better than anything else i've ever done it took american psycho army of darkness and kill bill just to get over that crap i hate you sandler for actually going through with this and ruining a whole day of my life\n",
      "\n",
      "\n",
      "\n",
      " begins better than it ends funny that the russian submarine crew  all other actors it's like those scenes where documentary shots br br spoiler part the message  was contrary to the whole story it just does not  br br\n",
      "\n",
      "\n",
      "\n",
      " lavish production values and solid performances in this straightforward adaption of jane  satirical classic about the marriage game within and between the classes in  18th century england northam and paltrow are a  mixture as friends who must pass through  and lies to discover that they love each other good humor is a  virtue which goes a long way towards explaining the  of the aged source material which has been toned down a bit in its harsh  i liked the look of the film and how shots were set up and i thought it didn't rely too much on  of head shots like most other films of the 80s and 90s do very good results\n",
      "\n",
      "\n",
      "\n",
      " the  tells the story of the four hamilton siblings teenager francis   twins  joseph     the  david samuel who is now the surrogate parent in charge the  move house a lot  is unsure why is unhappy with the way things are the fact that his brother's sister kidnap  murder people in the basement doesn't help relax or calm  nerves either francis  something just isn't right when he eventually finds out the truth things will never be the same again br br co written co produced directed by mitchell  phil  as the butcher brothers who's only other film director's credit so far is the april  day 2008 remake enough said this was one of the  to die  at the 2006 after dark  or whatever it's called in keeping with pretty much all the other's i've seen i thought the  was complete total utter crap i found the character's really poor very unlikable the slow moving story failed to capture my imagination or sustain my interest over it's 85 a half minute too long  minute duration the there's the awful twist at the end which had me laughing out loud there's this really big  build up to what's inside a  thing in the  basement it's eventually revealed to be a little boy with a teddy is that really supposed to scare us is that really supposed to shock us is that really something that is supposed to have us talking about it as the end credits roll is a harmless looking young boy the best  ending that the makers could come up with the boring plot  along it's never made clear where the  get all their money from to buy new houses since none of them seem to work except david in a  i doubt that pays much or why they haven't been caught before now the script tries to mix in every day drama with potent horror it just does a terrible job of combining the two to the extent that neither aspect is memorable or effective a really bad film that i am struggling to say anything good about br br despite being written directed by the extreme sounding butcher brothers there's no gore here there's a bit of blood splatter a few scenes of girls  up in a basement but nothing you couldn't do at home yourself with a bottle of   a camcorder the film is neither scary since it's got a very middle class suburban setting there's zero atmosphere or mood there's a lesbian suggest incestuous kiss but the  is low on the exploitation scale there's not much here for the horror crowd br br filmed in  in california this has that modern low budget look about it it's not badly made but rather forgettable the acting by an unknown to me cast is nothing to write home about i can't say i ever felt anything for anyone br br the  commits the  sin of being both dull boring from which it never  add to that an ultra thin story no gore a rubbish ending character's who you don't give a toss about you have a film that did not impress me at all\n",
      "\n",
      "\n",
      "\n",
      " just got out and cannot believe what a brilliant documentary this is rarely do you walk out of a movie theater in such awe and  lately movies have become so over hyped that the thrill of discovering something truly special and unique rarely happens   did this to me when it first came out and this movie is doing to me now i didn't know a thing about this before going into it and what a surprise if you hear the concept you might get the feeling that this is one of those  movies about an amazing triumph covered with over the top music and trying to have us fully convinced of what a great story it is telling but then not letting us in  this is not that movie the people tell the story this does such a good job of capturing every moment of their involvement while we enter their world and feel every second with them there is so much beyond the climb that makes everything they go through so much more tense touching the void was also a great doc about mountain climbing and showing the intensity in an engaging way but this film is much more of a human story i just saw it today but i will go and say that this is one of the best documentaries i have ever seen\n",
      "\n",
      "\n",
      "\n",
      " this movie has many problem associated with it that makes it come off like a low budget class project from someone in film school i have to give it credit on its  though many times throughout the movie i found myself laughing hysterically it was so bad at times that it was comical which made it a fun watch br br if you're looking for a low grade slasher movie with a twist of psychological horror and a dash of campy  then pop a bowl of popcorn invite some friends over and have some fun br br i agree with other comments that the sound is very bad dialog is next to impossible to follow much of the time and the soundtrack is kind of just there\n",
      "\n",
      "\n",
      "\n"
     ]
    }
   ],
   "source": [
    "# print first 10 reviews decoded as list of strings\n",
    "# decode by integer 3 offset to remove reserved padding numbers\n",
    "for x in range(10):\n",
    "    decoded_review = ' '.join(\n",
    "        [reverse_word_index.get(i-3, '') for i in train_data[x]]\n",
    "    )\n",
    "    print(decoded_review)\n",
    "    print('\\n\\n')"
   ]
  },
  {
   "cell_type": "code",
   "execution_count": 12,
   "metadata": {},
   "outputs": [],
   "source": [
    "# prepare data\n",
    "# one-hot encode interger lists into tensors of 10,000 dimensions\n",
    "# define vectorizer function\n",
    "def vectorize_seq(sequences, dimension=10000):\n",
    "    # create all zeros matrix of 10000 dim and len(sequences)\n",
    "    results = np.zeros(\n",
    "        (len(sequences), dimension)\n",
    "    )\n",
    "    # iterate over sequences and fill with 1s for word index\n",
    "    for i, sequence in enumerate(sequences):\n",
    "        results[i, sequence] = 1.\n",
    "    return results"
   ]
  },
  {
   "cell_type": "code",
   "execution_count": 13,
   "metadata": {},
   "outputs": [],
   "source": [
    "# one-hot encode training and test data\n",
    "x_train = vectorize_seq(train_data)\n",
    "x_test = vectorize_seq(test_data)"
   ]
  },
  {
   "cell_type": "code",
   "execution_count": 14,
   "metadata": {},
   "outputs": [],
   "source": [
    "# convert list of label into numpy arrays\n",
    "y_train = np.asarray(train_labels).astype('float32')\n",
    "y_test = np.asarray(test_labels).astype('float32')"
   ]
  },
  {
   "cell_type": "code",
   "execution_count": 15,
   "metadata": {},
   "outputs": [],
   "source": [
    "# // data is in tesnor format and ready for network input"
   ]
  },
  {
   "cell_type": "code",
   "execution_count": 16,
   "metadata": {},
   "outputs": [],
   "source": [
    "# // input data are tensors, labels are scalars\n",
    "# a dense network with relu activations are best suited for this data\n",
    "# simple data and simple network"
   ]
  },
  {
   "cell_type": "code",
   "execution_count": 17,
   "metadata": {},
   "outputs": [],
   "source": [
    "# for this simple data and scalar prediction [0,1] a network with 2 hidden layers with 16 units anr relu activation\n",
    "# perform best. The final layer will use a sigmoid activation to predict range of [0,1]\n",
    "# // Relu zeros out negative values\n",
    "# // Sigmoid squashes arbitrary values in the range [0,1] for easy interpretability "
   ]
  },
  {
   "cell_type": "code",
   "execution_count": 18,
   "metadata": {},
   "outputs": [],
   "source": [
    "# Define model architecture\n",
    "# 3 layers, input[ relu, 16] output [sigmoid, 1]"
   ]
  },
  {
   "cell_type": "code",
   "execution_count": 52,
   "metadata": {},
   "outputs": [],
   "source": [
    "model = Sequential()"
   ]
  },
  {
   "cell_type": "code",
   "execution_count": 22,
   "metadata": {},
   "outputs": [
    {
     "name": "stdout",
     "output_type": "stream",
     "text": [
      "25000\n",
      "10000\n"
     ]
    }
   ],
   "source": [
    "# for input shape reference\n",
    "for x in (0,1): print(x_train.shape[x])"
   ]
  },
  {
   "cell_type": "code",
   "execution_count": 53,
   "metadata": {},
   "outputs": [],
   "source": [
    "# input layer\n",
    "model.add(Dense(16, activation='relu', input_shape=(x_train.shape[1], ))) # // define input shape as tuple"
   ]
  },
  {
   "cell_type": "code",
   "execution_count": 54,
   "metadata": {},
   "outputs": [],
   "source": [
    "# hidden layer\n",
    "model.add(Dense(16, activation='relu'))\n",
    "# add batch normalization to reset activation functions close to mean zero and std.dev 1\n",
    "model.add(keras.layers.BatchNormalization())\n",
    "model.add(Dropout(0.2))"
   ]
  },
  {
   "cell_type": "code",
   "execution_count": 55,
   "metadata": {},
   "outputs": [],
   "source": [
    "# output layer\n",
    "model.add(Dense(1, activation='sigmoid'))"
   ]
  },
  {
   "cell_type": "code",
   "execution_count": 33,
   "metadata": {},
   "outputs": [],
   "source": [
    "# // Relu is a non-linear activation function\n",
    "# it is applied to each layer as a dot product to increase the hypothesis space\n",
    "# rather than linear transformations which offer no information value as the hyp. space is still restricted\n",
    "# // binary cross entropy is the ideal loss function for this task\n",
    "# as it is a [0,1] output, it is better than mean squared error\n",
    "# crossentropy measures the difference between truth and predicted label\n",
    "# // use rms_prop to optimise the loss function during learning"
   ]
  },
  {
   "cell_type": "code",
   "execution_count": 56,
   "metadata": {},
   "outputs": [],
   "source": [
    "# compile model with loss and optimizer functions\n",
    "# monitor accuracy during training\n",
    "model.compile(loss='binary_crossentropy', optimizer='rmsprop', metrics=['accuracy'])"
   ]
  },
  {
   "cell_type": "code",
   "execution_count": 35,
   "metadata": {},
   "outputs": [],
   "source": [
    "# split training data for validation set\n",
    "# use simple splicing to capture first 10,000 samples\n",
    "x_val = x_train[:10000]\n",
    "# use remaining samples for training as new variable\n",
    "partial_x_train = x_train[10000:]"
   ]
  },
  {
   "cell_type": "code",
   "execution_count": 36,
   "metadata": {},
   "outputs": [],
   "source": [
    "# repeat for labels\n",
    "y_val = y_train[:10000]\n",
    "partial_y_train = y_train[10000:]"
   ]
  },
  {
   "cell_type": "code",
   "execution_count": 57,
   "metadata": {},
   "outputs": [],
   "source": [
    "# define callbacks for training optimisation\n",
    "# reduce learning rate every 4 epochs if no improvement in val loss\n",
    "# reduce by a factor of 0.2 or 1/5\n",
    "reduce_lr = ReduceLROnPlateau(monitor='val_loss', patience=1, factor=0.2, min_lr=0.001)"
   ]
  },
  {
   "cell_type": "code",
   "execution_count": 60,
   "metadata": {},
   "outputs": [
    {
     "name": "stdout",
     "output_type": "stream",
     "text": [
      "Train on 15000 samples, validate on 10000 samples\n",
      "Epoch 1/4\n",
      "15000/15000 [==============================] - 3s 222us/step - loss: 0.0149 - acc: 0.9977 - val_loss: 0.3432 - val_acc: 0.8561\n",
      "Epoch 2/4\n",
      "15000/15000 [==============================] - 3s 179us/step - loss: 0.0094 - acc: 0.9989 - val_loss: 0.3670 - val_acc: 0.8586\n",
      "Epoch 3/4\n",
      "15000/15000 [==============================] - 3s 178us/step - loss: 0.0058 - acc: 0.9997 - val_loss: 0.4151 - val_acc: 0.8525\n",
      "Epoch 4/4\n",
      "15000/15000 [==============================] - 3s 178us/step - loss: 0.0068 - acc: 0.9987 - val_loss: 0.4657 - val_acc: 0.8556\n"
     ]
    }
   ],
   "source": [
    "# train model\n",
    "# run for 20 iterations using batches of 512 samples\n",
    "# use callbacks to reduce learning rate and monitor validation loss\n",
    "# callbacks takes in list argument\n",
    "history = model.fit(\n",
    "    partial_x_train, partial_y_train, epochs=4, batch_size=512,\n",
    "    validation_data=(x_val, y_val), callbacks=[reduce_lr], verbose=1\n",
    ")"
   ]
  },
  {
   "cell_type": "code",
   "execution_count": null,
   "metadata": {},
   "outputs": [],
   "source": []
  }
 ],
 "metadata": {
  "kernelspec": {
   "display_name": "Python 3",
   "language": "python",
   "name": "python3"
  },
  "language_info": {
   "codemirror_mode": {
    "name": "ipython",
    "version": 3
   },
   "file_extension": ".py",
   "mimetype": "text/x-python",
   "name": "python",
   "nbconvert_exporter": "python",
   "pygments_lexer": "ipython3",
   "version": "3.7.4"
  }
 },
 "nbformat": 4,
 "nbformat_minor": 4
}
