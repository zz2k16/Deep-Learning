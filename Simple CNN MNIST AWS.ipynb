{
 "cells": [
  {
   "cell_type": "code",
   "execution_count": 2,
   "metadata": {},
   "outputs": [
    {
     "name": "stderr",
     "output_type": "stream",
     "text": [
      "/home/ubuntu/anaconda3/envs/tensorflow_p36/lib/python3.6/site-packages/h5py/__init__.py:36: FutureWarning: Conversion of the second argument of issubdtype from `float` to `np.floating` is deprecated. In future, it will be treated as `np.float64 == np.dtype(float).type`.\n",
      "  from ._conv import register_converters as _register_converters\n",
      "Using TensorFlow backend.\n"
     ]
    }
   ],
   "source": [
    "# imports\n",
    "import numpy as np\n",
    "from keras.datasets import mnist\n",
    "from keras.models import Sequential\n",
    "from keras.layers import Dense, Dropout, Flatten\n",
    "from keras.layers.convolutional import Conv2D, MaxPooling2D\n",
    "from keras.utils import np_utils\n",
    "from keras import backend as K"
   ]
  },
  {
   "cell_type": "code",
   "execution_count": 3,
   "metadata": {},
   "outputs": [],
   "source": [
    "K.set_image_dim_ordering('th')"
   ]
  },
  {
   "cell_type": "code",
   "execution_count": 4,
   "metadata": {},
   "outputs": [],
   "source": [
    "# clear GPU Memory\n",
    "K.clear_session()"
   ]
  },
  {
   "cell_type": "code",
   "execution_count": 5,
   "metadata": {},
   "outputs": [],
   "source": [
    "np.random.seed(7)"
   ]
  },
  {
   "cell_type": "code",
   "execution_count": 7,
   "metadata": {},
   "outputs": [],
   "source": [
    "# load mnist data and reshape into a 2D structure the CNN expects for 2D convolutions\n",
    "# data reshaped to [pixels][width][height]\n",
    "# for RGB images, pixels = 3 for their r,g,b components such that each image is split into three channels\n",
    "# for grayscale images, pixels = 1"
   ]
  },
  {
   "cell_type": "code",
   "execution_count": 6,
   "metadata": {},
   "outputs": [],
   "source": [
    "# load data\n",
    "(x_train, y_train), (x_test, y_test) = mnist.load_data()"
   ]
  },
  {
   "cell_type": "code",
   "execution_count": 7,
   "metadata": {},
   "outputs": [],
   "source": [
    "# reshape to CNN format [samples][pixels][width][height]\n",
    "X_train = x_train.reshape(x_train.shape[0], 1, 28, 28).astype('float32')\n",
    "X_test = x_test.reshape(x_test.shape[0], 1, 28, 28).astype('float32')"
   ]
  },
  {
   "cell_type": "code",
   "execution_count": 8,
   "metadata": {},
   "outputs": [],
   "source": [
    "# normalize pixel values from 0,255 to 0,1\n",
    "X_train = X_train / 255\n",
    "X_test = X_test / 255"
   ]
  },
  {
   "cell_type": "code",
   "execution_count": 9,
   "metadata": {},
   "outputs": [],
   "source": [
    "# encode classes into one hot encoded column vectors\n",
    "Y_train = np_utils.to_categorical(y_train)\n",
    "Y_test = np_utils.to_categorical(y_test)"
   ]
  },
  {
   "cell_type": "code",
   "execution_count": 10,
   "metadata": {},
   "outputs": [],
   "source": [
    "num_classes = Y_test.shape[1]"
   ]
  },
  {
   "cell_type": "code",
   "execution_count": 11,
   "metadata": {},
   "outputs": [
    {
     "name": "stdout",
     "output_type": "stream",
     "text": [
      "(60000, 1, 28, 28) (10000, 1, 28, 28)\n",
      "(60000, 10) (10000, 10)\n"
     ]
    }
   ],
   "source": [
    "# verify data structure shape\n",
    "print(X_train.shape, X_test.shape)\n",
    "print(Y_train.shape, Y_test.shape)"
   ]
  },
  {
   "cell_type": "code",
   "execution_count": 12,
   "metadata": {},
   "outputs": [],
   "source": [
    "# define CNN architecture\n",
    "# create a simple CNN network \n",
    "# Layer 1 - Convolution2D ; 32 feature maps of size 5x5 with a rectifier activation function. Expects images\n",
    "# of structure pixels,width,height\n",
    "# Layer 2 - MaxPooling2D ; pool size of 2x2\n",
    "# Layer 3 - Dropout ; randomly remove 20% of neurons in the layer to reduce overfitting\n",
    "# Layer 4 - Flatten ; converts 2D matrix into a vector to allow fully connected layers to process the output\n",
    "# Layer 5 - Dense ; fully connected layer with 128 neurons and a relu activation function\n",
    "# Layer 6 - Dense ; output later with neurons = num classes == 10 and a softmax activation function \n",
    "# to predict the probability for each class\n",
    "def base_CNN2D():\n",
    "    # init Sequential model\n",
    "    model = Sequential()\n",
    "    \n",
    "    # Input layer - Layer 1\n",
    "    model.add(\n",
    "        Conv2D(32, (5,5), input_shape=(1, 28, 28), activation='relu')\n",
    "    )\n",
    "    # MaxPooling layer - Layer 2\n",
    "    model.add(\n",
    "        MaxPooling2D(pool_size=(2,2))\n",
    "    )\n",
    "    # Dropout layer - Layer 3\n",
    "    model.add(\n",
    "        Dropout(0.2)\n",
    "    )\n",
    "    # Flatten layer - Layer 4\n",
    "    model.add(\n",
    "        Flatten()\n",
    "    )\n",
    "    # Dense layer - Layer 5 - Hidden layer\n",
    "    model.add(\n",
    "        Dense(128, activation='relu')\n",
    "    )\n",
    "    # Dense layer - Layer 6 - Output layer\n",
    "    model.add(\n",
    "        Dense(num_classes, activation='softmax')\n",
    "    )\n",
    "    \n",
    "    # compile model\n",
    "    model.compile(loss='categorical_crossentropy', optimizer='adam', metrics=['accuracy'])\n",
    "    return model\n",
    "    "
   ]
  },
  {
   "cell_type": "code",
   "execution_count": null,
   "metadata": {},
   "outputs": [],
   "source": [
    "# clear unused image variables\n",
    "del (x_train, x_test, y_train, y_test)"
   ]
  },
  {
   "cell_type": "code",
   "execution_count": 20,
   "metadata": {},
   "outputs": [
    {
     "name": "stdout",
     "output_type": "stream",
     "text": [
      "Train on 60000 samples, validate on 10000 samples\n",
      "Epoch 1/10\n",
      " - 36s - loss: 0.2256 - acc: 0.9357 - val_loss: 0.0778 - val_acc: 0.9755\n",
      "Epoch 2/10\n",
      " - 1s - loss: 0.0711 - acc: 0.9789 - val_loss: 0.0450 - val_acc: 0.9851\n",
      "Epoch 3/10\n",
      " - 1s - loss: 0.0509 - acc: 0.9846 - val_loss: 0.0439 - val_acc: 0.9853\n",
      "Epoch 4/10\n",
      " - 1s - loss: 0.0391 - acc: 0.9879 - val_loss: 0.0402 - val_acc: 0.9879\n",
      "Epoch 5/10\n",
      " - 1s - loss: 0.0326 - acc: 0.9898 - val_loss: 0.0348 - val_acc: 0.9881\n",
      "Epoch 6/10\n",
      " - 1s - loss: 0.0266 - acc: 0.9917 - val_loss: 0.0330 - val_acc: 0.9898\n",
      "Epoch 7/10\n",
      " - 1s - loss: 0.0217 - acc: 0.9933 - val_loss: 0.0359 - val_acc: 0.9886\n",
      "Epoch 8/10\n",
      " - 1s - loss: 0.0192 - acc: 0.9939 - val_loss: 0.0338 - val_acc: 0.9880\n",
      "Epoch 9/10\n",
      " - 1s - loss: 0.0154 - acc: 0.9951 - val_loss: 0.0322 - val_acc: 0.9892\n",
      "Epoch 10/10\n",
      " - 1s - loss: 0.0140 - acc: 0.9958 - val_loss: 0.0345 - val_acc: 0.9891\n",
      "CNN Error 1.0900000000000034\n"
     ]
    }
   ],
   "source": [
    "# train model for 10 epochs in batches of 200 images per epoch\n",
    "model = base_CNN2D()\n",
    "model.fit(X_train, Y_train, validation_data=(X_test, Y_test), epochs=10, batch_size=200, verbose=2)\n",
    "# store model evaluation scores\n",
    "scores = model.evaluate(X_test, Y_test, verbose=0)\n",
    "print('CNN Error {}'.format(100-scores[1]*100))"
   ]
  },
  {
   "cell_type": "code",
   "execution_count": 21,
   "metadata": {},
   "outputs": [],
   "source": [
    "# create larger CNN architecture with close to state-of-the-art results for this dataset\n",
    "# extending the baseline CNN architecture with additional Convolutional, MaxPooling and fully connected layers\n",
    "# Layer 1 - Convolution ; 30 feature maps of 5x5\n",
    "# Layer 2 - MaxPooling ; 2x2 size\n",
    "# Layer 3 - Convolution ; 15 feature maps of 3x3\n",
    "# Layer 4 - MaxPooling ; 2x2 size\n",
    "# Layer 5 - Dropout ; 20%\n",
    "# Layer 6 - Flatten \n",
    "# Layer 7 - Dense ; hidden layer with 128 neurons and relu activation\n",
    "# Layer 8 - Dense ; hidden layer with 50 neurons and relu activation\n",
    "# Layer 9 - Dense ; output layer with neurons = num_classes == 10 and softmax activation\n",
    "# compile model with adam gradient descent for optimization \n",
    "def state_CNN2D():\n",
    "    # init Sequential model\n",
    "    model = Sequential()\n",
    "    \n",
    "    # Input layer - Layer 1\n",
    "    model.add(\n",
    "        Conv2D(30, (5,5), input_shape=(1, 28, 28), activation='relu')\n",
    "    )\n",
    "    # MaxPooling layer - Layer 2\n",
    "    model.add(\n",
    "        MaxPooling2D(pool_size=(2,2))\n",
    "    )\n",
    "    # Convolution layer - Layer 3\n",
    "    model.add(\n",
    "        Conv2D(15, (3,3), activation='relu')\n",
    "    )\n",
    "    # MaxPooling layer - Layer 4\n",
    "    model.add(\n",
    "        MaxPooling2D(pool_size=(2,2))\n",
    "    )\n",
    "    # Dropout layer - Layer 5\n",
    "    model.add(\n",
    "        Dropout(0.2)\n",
    "    )\n",
    "    # Flatten layer - Layer 6\n",
    "    model.add(\n",
    "        Flatten()\n",
    "    )\n",
    "    # Dense layer - Layer 7 - Hidden layer\n",
    "    model.add(\n",
    "        Dense(128, activation='relu')\n",
    "    )\n",
    "    # Dense layer - Layer 8 - Hidden layer\n",
    "    model.add(\n",
    "        Dense(50, activation='relu')\n",
    "    )\n",
    "    # Dense layer - Layer 9 - Output layer\n",
    "    model.add(\n",
    "        Dense(num_classes, activation='softmax')\n",
    "    )\n",
    "    \n",
    "    # compile model\n",
    "    model.compile(loss='categorical_crossentropy', optimizer='adam', metrics=['accuracy'])\n",
    "    return model"
   ]
  },
  {
   "cell_type": "code",
   "execution_count": 22,
   "metadata": {},
   "outputs": [],
   "source": [
    "# del previous cnn model\n",
    "del(model)"
   ]
  },
  {
   "cell_type": "code",
   "execution_count": 30,
   "metadata": {},
   "outputs": [
    {
     "name": "stdout",
     "output_type": "stream",
     "text": [
      "Train on 60000 samples, validate on 10000 samples\n",
      "Epoch 1/10\n",
      " - 2s - loss: 0.4057 - acc: 0.8708 - val_loss: 0.0950 - val_acc: 0.9710\n",
      "Epoch 2/10\n",
      " - 1s - loss: 0.1000 - acc: 0.9694 - val_loss: 0.0515 - val_acc: 0.9832\n",
      "Epoch 3/10\n",
      " - 1s - loss: 0.0699 - acc: 0.9786 - val_loss: 0.0425 - val_acc: 0.9867\n",
      "Epoch 4/10\n",
      " - 1s - loss: 0.0566 - acc: 0.9820 - val_loss: 0.0334 - val_acc: 0.9890\n",
      "Epoch 5/10\n",
      " - 1s - loss: 0.0476 - acc: 0.9851 - val_loss: 0.0349 - val_acc: 0.9890\n",
      "Epoch 6/10\n",
      " - 1s - loss: 0.0422 - acc: 0.9861 - val_loss: 0.0315 - val_acc: 0.9895\n",
      "Epoch 7/10\n",
      " - 1s - loss: 0.0367 - acc: 0.9888 - val_loss: 0.0266 - val_acc: 0.9918\n",
      "Epoch 8/10\n",
      " - 1s - loss: 0.0338 - acc: 0.9889 - val_loss: 0.0244 - val_acc: 0.9920\n",
      "Epoch 9/10\n",
      " - 1s - loss: 0.0309 - acc: 0.9899 - val_loss: 0.0286 - val_acc: 0.9904\n",
      "Epoch 10/10\n",
      " - 1s - loss: 0.0287 - acc: 0.9907 - val_loss: 0.0254 - val_acc: 0.9919\n",
      "CNN Error 0.81%\n",
      "CNN Accuracy 99.19\n"
     ]
    }
   ],
   "source": [
    "# build and run larger CNN \n",
    "model = state_CNN2D()\n",
    "model.fit(X_train, Y_train, validation_data=(X_test, Y_test), epochs=10, batch_size=200, verbose=2)\n",
    "# store model evaluation scores\n",
    "scores = model.evaluate(X_test, Y_test, verbose=0)\n",
    "print('CNN Error {:.2f}%'.format(100-scores[1]*100))\n",
    "print('CNN Accuracy {:.2f}'.format(100 - (100-scores[1]*100)))"
   ]
  },
  {
   "cell_type": "code",
   "execution_count": null,
   "metadata": {},
   "outputs": [],
   "source": []
  }
 ],
 "metadata": {
  "kernelspec": {
   "display_name": "Environment (conda_tensorflow_p36)",
   "language": "python",
   "name": "conda_tensorflow_p36"
  },
  "language_info": {
   "codemirror_mode": {
    "name": "ipython",
    "version": 3
   },
   "file_extension": ".py",
   "mimetype": "text/x-python",
   "name": "python",
   "nbconvert_exporter": "python",
   "pygments_lexer": "ipython3",
   "version": "3.6.4"
  }
 },
 "nbformat": 4,
 "nbformat_minor": 2
}
